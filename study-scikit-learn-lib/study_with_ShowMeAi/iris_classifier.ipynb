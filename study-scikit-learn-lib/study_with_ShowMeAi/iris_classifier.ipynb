{
 "cells": [
  {
   "cell_type": "markdown",
   "id": "1759efd4",
   "metadata": {},
   "source": [
    "Scikit-Learn：最常用的python机器学习算法工具库之一。\n",
    "Keras：便捷的深度学习神经网络搭建应用工具库。"
   ]
  },
  {
   "cell_type": "code",
   "execution_count": 12,
   "id": "ea68d0d4",
   "metadata": {
    "ExecuteTime": {
     "end_time": "2024-01-29T05:03:45.770474Z",
     "start_time": "2024-01-29T05:03:45.755621Z"
    }
   },
   "outputs": [],
   "source": [
    "## 导入需要的库\n",
    "from sklearn.neighbors import KNeighborsClassifier\n",
    "from sklearn.naive_bayes import GaussianNB\n",
    "from sklearn.linear_model import LogisticRegression\n",
    "from sklearn.svm import SVC\n",
    "from sklearn.tree import DecisionTreeClassifier\n",
    "from sklearn.ensemble import RandomForestClassifier\n",
    "from sklearn.neural_network import MLPClassifier\n",
    "from sklearn.model_selection import train_test_split\n",
    "from sklearn.metrics import classification_report\n",
    "from sklearn.datasets import load_iris\n",
    "import argparse"
   ]
  },
  {
   "cell_type": "code",
   "execution_count": 18,
   "id": "b1811693",
   "metadata": {
    "ExecuteTime": {
     "end_time": "2024-01-29T05:05:59.943921Z",
     "start_time": "2024-01-29T05:05:59.937168Z"
    }
   },
   "outputs": [
    {
     "name": "stdout",
     "output_type": "stream",
     "text": [
      "Namespace(model='knn')\n"
     ]
    }
   ],
   "source": [
    "## 设置参数\n",
    "ap = argparse.ArgumentParser()\n",
    "ap.add_argument(\"-m\", \"--model\", type=str, default=\"knn\", help=\"type of python machine learning model to use\")\n",
    "args =ap.parse_known_args()\n",
    "print(args[0])"
   ]
  },
  {
   "cell_type": "code",
   "execution_count": 14,
   "id": "1dc920c9",
   "metadata": {
    "ExecuteTime": {
     "end_time": "2024-01-29T05:03:47.509403Z",
     "start_time": "2024-01-29T05:03:47.499572Z"
    }
   },
   "outputs": [],
   "source": [
    "## 定义一个保存模型的字典，根据 key 来选择加载哪个模型\n",
    "models = {\n",
    "    \"knn\": KNeighborsClassifier(n_neighbors=1),\n",
    "    \"naive_bayes\": GaussianNB(),\n",
    "    \"logit\": LogisticRegression(solver=\"lbfgs\", multi_class=\"auto\"),\n",
    "    \"svm\": SVC(kernel=\"rbf\", gamma=\"auto\"),\n",
    "    \"decision_tree\": DecisionTreeClassifier(),\n",
    "    \"random_forest\": RandomForestClassifier(n_estimators=100),\n",
    "    \"mlp\": MLPClassifier()\n",
    "}"
   ]
  },
  {
   "cell_type": "code",
   "execution_count": 15,
   "id": "ddaf63ad",
   "metadata": {
    "ExecuteTime": {
     "end_time": "2024-01-29T05:04:17.566722Z",
     "start_time": "2024-01-29T05:04:17.512059Z"
    }
   },
   "outputs": [
    {
     "name": "stdout",
     "output_type": "stream",
     "text": [
      "加载数据中...\n"
     ]
    }
   ],
   "source": [
    "print(\"加载数据中...\")\n",
    "dataset = load_iris()\n",
    "trainX, testX, trainY, testY = train_test_split(dataset.data, dataset.target, random_state=3, test_size=0.2)"
   ]
  },
  {
   "cell_type": "code",
   "execution_count": 19,
   "id": "e9d51bf2",
   "metadata": {
    "ExecuteTime": {
     "end_time": "2024-01-29T05:06:02.991829Z",
     "start_time": "2024-01-29T05:06:02.945856Z"
    }
   },
   "outputs": [
    {
     "ename": "TypeError",
     "evalue": "tuple indices must be integers or slices, not str",
     "output_type": "error",
     "traceback": [
      "\u001b[1;31m---------------------------------------------------------------------------\u001b[0m",
      "\u001b[1;31mTypeError\u001b[0m                                 Traceback (most recent call last)",
      "\u001b[1;32m~\\AppData\\Local\\Temp\\ipykernel_14164\\2271937544.py\u001b[0m in \u001b[0;36m<module>\u001b[1;34m\u001b[0m\n\u001b[0;32m      1\u001b[0m \u001b[1;31m## 训练模型\u001b[0m\u001b[1;33m\u001b[0m\u001b[1;33m\u001b[0m\u001b[0m\n\u001b[1;32m----> 2\u001b[1;33m \u001b[0mprint\u001b[0m\u001b[1;33m(\u001b[0m\u001b[1;34m\"应用 '{}' 模型建模...\"\u001b[0m\u001b[1;33m.\u001b[0m\u001b[0mformat\u001b[0m\u001b[1;33m(\u001b[0m\u001b[0margs\u001b[0m\u001b[1;33m[\u001b[0m\u001b[1;34m\"model\"\u001b[0m\u001b[1;33m]\u001b[0m\u001b[1;33m)\u001b[0m\u001b[1;33m)\u001b[0m\u001b[1;33m\u001b[0m\u001b[1;33m\u001b[0m\u001b[0m\n\u001b[0m\u001b[0;32m      3\u001b[0m \u001b[0mmodel\u001b[0m \u001b[1;33m=\u001b[0m \u001b[0mmodels\u001b[0m\u001b[1;33m[\u001b[0m\u001b[0margs\u001b[0m\u001b[1;33m[\u001b[0m\u001b[1;34m\"model\"\u001b[0m\u001b[1;33m]\u001b[0m\u001b[1;33m]\u001b[0m\u001b[1;33m\u001b[0m\u001b[1;33m\u001b[0m\u001b[0m\n\u001b[0;32m      4\u001b[0m \u001b[0mmodel\u001b[0m\u001b[1;33m.\u001b[0m\u001b[0mfit\u001b[0m\u001b[1;33m(\u001b[0m\u001b[0mtrainX\u001b[0m\u001b[1;33m,\u001b[0m \u001b[0mtrainY\u001b[0m\u001b[1;33m)\u001b[0m\u001b[1;33m\u001b[0m\u001b[1;33m\u001b[0m\u001b[0m\n",
      "\u001b[1;31mTypeError\u001b[0m: tuple indices must be integers or slices, not str"
     ]
    }
   ],
   "source": [
    "## 训练模型\n",
    "print(\"应用 '{}' 模型建模...\".format(args[\"model\"]))\n",
    "model = models[args[\"model\"]]\n",
    "model.fit(trainX, trainY)"
   ]
  },
  {
   "cell_type": "code",
   "execution_count": null,
   "id": "031eb778",
   "metadata": {},
   "outputs": [],
   "source": []
  }
 ],
 "metadata": {
  "kernelspec": {
   "display_name": "Python 3 (ipykernel)",
   "language": "python",
   "name": "python3"
  },
  "language_info": {
   "codemirror_mode": {
    "name": "ipython",
    "version": 3
   },
   "file_extension": ".py",
   "mimetype": "text/x-python",
   "name": "python",
   "nbconvert_exporter": "python",
   "pygments_lexer": "ipython3",
   "version": "3.9.13"
  }
 },
 "nbformat": 4,
 "nbformat_minor": 5
}
