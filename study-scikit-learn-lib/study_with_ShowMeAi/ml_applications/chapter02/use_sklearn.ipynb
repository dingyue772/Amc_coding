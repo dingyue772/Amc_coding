{
 "cells": [
  {
   "cell_type": "markdown",
   "metadata": {},
   "source": [
    "# 改错记录\n",
    "1. 运行时报错：AttributeError: module 'urllib' has no attribute 'urlopen' —— 在python3.x中应该使用urllib.request.urlopen()方法\n",
    "2. "
   ]
  },
  {
   "cell_type": "code",
   "execution_count": 2,
   "metadata": {},
   "outputs": [],
   "source": [
    "import numpy as np\n",
    "## 加载CSV文件\n",
    "dataset = np.loadtxt(\"diabetes.csv\", delimiter=\",\", skiprows=1)\n",
    "## 区分特征和标签\n",
    "X = dataset[:,0:7]\n",
    "y = dataset[:,8]"
   ]
  },
  {
   "cell_type": "code",
   "execution_count": 3,
   "metadata": {},
   "outputs": [],
   "source": [
    "## 数据标准化\n",
    "from sklearn import preprocessing\n",
    "## 标准化\n",
    "normalized_X = preprocessing.normalize(X)"
   ]
  },
  {
   "cell_type": "code",
   "execution_count": 4,
   "metadata": {},
   "outputs": [
    {
     "name": "stdout",
     "output_type": "stream",
     "text": [
      "[0.15870686 0.17036047 0.18643466 0.102149   0.08290808 0.15171649\n",
      " 0.14772442]\n"
     ]
    }
   ],
   "source": [
    "## 特征选择\n",
    "from sklearn import metrics\n",
    "from sklearn.ensemble import ExtraTreesClassifier\n",
    "from sklearn.model_selection import train_test_split\n",
    "\n",
    "(trainX, testX, trainy, testy) = train_test_split(normalized_X, y, random_state=3, test_size=0.2)\n",
    "model = ExtraTreesClassifier()\n",
    "model.fit(trainX, trainy)\n",
    "## 特征重要度\n",
    "print(model.feature_importances_)"
   ]
  },
  {
   "cell_type": "code",
   "execution_count": 9,
   "metadata": {},
   "outputs": [
    {
     "name": "stdout",
     "output_type": "stream",
     "text": [
      "MODEL\n",
      "RandomForestClassifier(n_estimators=10)\n",
      "RESULT\n",
      "              precision    recall  f1-score   support\n",
      "\n",
      "         0.0       0.63      0.78      0.70        92\n",
      "         1.0       0.49      0.31      0.38        62\n",
      "\n",
      "    accuracy                           0.59       154\n",
      "   macro avg       0.56      0.54      0.54       154\n",
      "weighted avg       0.57      0.59      0.57       154\n",
      "\n",
      "CONFUSION MATRIX\n",
      "[[72 20]\n",
      " [43 19]]\n"
     ]
    }
   ],
   "source": [
    "## 建模与评估\n",
    "from sklearn import metrics\n",
    "from sklearn.ensemble import RandomForestClassifier\n",
    "model = RandomForestClassifier(n_estimators=10)\n",
    "model.fit(trainX, trainy)\n",
    "print('MODEL')\n",
    "print(model)\n",
    "## 预测\n",
    "expected = testy\n",
    "predicted = model.predict(testX)\n",
    "## 输出评估结果\n",
    "print('RESULT')\n",
    "print(metrics.classification_report(expected, predicted))\n",
    "print('CONFUSION MATRIX')\n",
    "print(metrics.confusion_matrix(expected, predicted))"
   ]
  },
  {
   "cell_type": "code",
   "execution_count": 6,
   "metadata": {},
   "outputs": [
    {
     "name": "stdout",
     "output_type": "stream",
     "text": [
      "Best Parameters: {'max_depth': None, 'min_samples_leaf': 2, 'min_samples_split': 10, 'n_estimators': 10}\n"
     ]
    }
   ],
   "source": [
    "## 超参数调优\n",
    "from sklearn.model_selection import GridSearchCV\n",
    "# 定义超参数的搜索空间\n",
    "param_grid = {\n",
    "    'n_estimators': [10, 20, 30],  # 可以根据实际情况扩展\n",
    "    'max_depth': [None, 10, 20],  # 可以根据实际情况扩展\n",
    "    'min_samples_split': [2, 5, 10],\n",
    "    'min_samples_leaf': [1, 2, 4]\n",
    "}\n",
    "# 创建GridSearchCV对象\n",
    "grid_search = GridSearchCV(model, param_grid, cv=5)\n",
    "# 使用训练数据进行超参数调优\n",
    "grid_search.fit(X, y)\n",
    "# 输出最佳参数\n",
    "best_params = grid_search.best_params_\n",
    "print(\"Best Parameters:\", best_params)\n",
    "# 输出最佳模型\n",
    "best_model = grid_search.best_estimator_"
   ]
  },
  {
   "cell_type": "code",
   "execution_count": 7,
   "metadata": {},
   "outputs": [
    {
     "name": "stdout",
     "output_type": "stream",
     "text": [
      "MODEL\n",
      "RandomForestClassifier(min_samples_leaf=2, min_samples_split=10,\n",
      "                       n_estimators=10)\n",
      "RESULT\n",
      "              precision    recall  f1-score   support\n",
      "\n",
      "         0.0       0.69      0.85      0.76        92\n",
      "         1.0       0.66      0.44      0.52        62\n",
      "\n",
      "    accuracy                           0.68       154\n",
      "   macro avg       0.67      0.64      0.64       154\n",
      "weighted avg       0.68      0.68      0.67       154\n",
      "\n",
      "CONFUSION MATRIX\n",
      "[[78 14]\n",
      " [35 27]]\n"
     ]
    }
   ],
   "source": [
    "best_model.fit(trainX, trainy)\n",
    "print('MODEL')\n",
    "print(best_model)\n",
    "## 预测\n",
    "expected = testy\n",
    "predicted = best_model.predict(testX)\n",
    "## 输出评估结果\n",
    "print('RESULT')\n",
    "print(metrics.classification_report(expected, predicted))\n",
    "print('CONFUSION MATRIX')\n",
    "print(metrics.confusion_matrix(expected, predicted))"
   ]
  }
 ],
 "metadata": {
  "kernelspec": {
   "display_name": "base",
   "language": "python",
   "name": "python3"
  },
  "language_info": {
   "codemirror_mode": {
    "name": "ipython",
    "version": 3
   },
   "file_extension": ".py",
   "mimetype": "text/x-python",
   "name": "python",
   "nbconvert_exporter": "python",
   "pygments_lexer": "ipython3",
   "version": "3.9.13"
  }
 },
 "nbformat": 4,
 "nbformat_minor": 2
}
