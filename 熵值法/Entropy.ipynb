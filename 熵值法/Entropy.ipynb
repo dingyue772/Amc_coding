{
 "cells": [
  {
   "cell_type": "code",
   "execution_count": 1,
   "metadata": {
    "ExecuteTime": {
     "end_time": "2024-01-25T13:34:19.962309Z",
     "start_time": "2024-01-25T13:34:17.482925Z"
    }
   },
   "outputs": [
    {
     "name": "stdout",
     "output_type": "stream",
     "text": [
      "['油耗', '功率', '费用', '安全性', '维护性', '操作性']\n",
      "['本田', '奥迪', '桑塔纳', '别克']\n",
      "[[ 5.   1.4  6.   3.   5.   7. ]\n",
      " [ 9.   2.  30.   7.   5.   9. ]\n",
      " [ 8.   1.8 11.   5.   7.   5. ]\n",
      " [12.   2.5 18.   7.   5.   5. ]]\n"
     ]
    },
    {
     "data": {
      "text/html": [
       "<div>\n",
       "<style scoped>\n",
       "    .dataframe tbody tr th:only-of-type {\n",
       "        vertical-align: middle;\n",
       "    }\n",
       "\n",
       "    .dataframe tbody tr th {\n",
       "        vertical-align: top;\n",
       "    }\n",
       "\n",
       "    .dataframe thead th {\n",
       "        text-align: right;\n",
       "    }\n",
       "</style>\n",
       "<table border=\"1\" class=\"dataframe\">\n",
       "  <thead>\n",
       "    <tr style=\"text-align: right;\">\n",
       "      <th></th>\n",
       "      <th>油耗</th>\n",
       "      <th>功率</th>\n",
       "      <th>费用</th>\n",
       "      <th>安全性</th>\n",
       "      <th>维护性</th>\n",
       "      <th>操作性</th>\n",
       "    </tr>\n",
       "    <tr>\n",
       "      <th>车型</th>\n",
       "      <th></th>\n",
       "      <th></th>\n",
       "      <th></th>\n",
       "      <th></th>\n",
       "      <th></th>\n",
       "      <th></th>\n",
       "    </tr>\n",
       "  </thead>\n",
       "  <tbody>\n",
       "    <tr>\n",
       "      <th>本田</th>\n",
       "      <td>5</td>\n",
       "      <td>1.4</td>\n",
       "      <td>6</td>\n",
       "      <td>3</td>\n",
       "      <td>5</td>\n",
       "      <td>7</td>\n",
       "    </tr>\n",
       "    <tr>\n",
       "      <th>奥迪</th>\n",
       "      <td>9</td>\n",
       "      <td>2.0</td>\n",
       "      <td>30</td>\n",
       "      <td>7</td>\n",
       "      <td>5</td>\n",
       "      <td>9</td>\n",
       "    </tr>\n",
       "    <tr>\n",
       "      <th>桑塔纳</th>\n",
       "      <td>8</td>\n",
       "      <td>1.8</td>\n",
       "      <td>11</td>\n",
       "      <td>5</td>\n",
       "      <td>7</td>\n",
       "      <td>5</td>\n",
       "    </tr>\n",
       "    <tr>\n",
       "      <th>别克</th>\n",
       "      <td>12</td>\n",
       "      <td>2.5</td>\n",
       "      <td>18</td>\n",
       "      <td>7</td>\n",
       "      <td>5</td>\n",
       "      <td>5</td>\n",
       "    </tr>\n",
       "  </tbody>\n",
       "</table>\n",
       "</div>"
      ],
      "text/plain": [
       "     油耗   功率  费用  安全性  维护性  操作性\n",
       "车型                             \n",
       "本田    5  1.4   6    3    5    7\n",
       "奥迪    9  2.0  30    7    5    9\n",
       "桑塔纳   8  1.8  11    5    7    5\n",
       "别克   12  2.5  18    7    5    5"
      ]
     },
     "execution_count": 1,
     "metadata": {},
     "output_type": "execute_result"
    }
   ],
   "source": [
    "import numpy as np\n",
    "import pandas as pd\n",
    "\n",
    "##读取数据\n",
    "data=pd.read_csv('data.csv',encoding='gb18030',index_col=0)\n",
    "indicator=data.columns.tolist()   ##指标个数\n",
    "project=data.index.tolist()    ##方案数、评价主体\n",
    "value=data.values\n",
    "print(indicator)\n",
    "print(project)\n",
    "print(value)\n",
    "data.head()"
   ]
  },
  {
   "cell_type": "code",
   "execution_count": 5,
   "metadata": {
    "ExecuteTime": {
     "end_time": "2024-01-25T13:34:35.604154Z",
     "start_time": "2024-01-25T13:34:35.584950Z"
    }
   },
   "outputs": [],
   "source": [
    "###定义数据标准化函数。为了避免求熵值时对数无意义，对数据进行平移，对标准化后的数据统一加了常数0.001\n",
    "def std_data(value,flag):\n",
    "    for i in range(len(indicator)):\n",
    "        #print(flag[i])\n",
    "        if flag[i]=='+':\n",
    "            value[:,i]=(value[:,i]-np.min(value[:,i],axis=0))/(np.max(value[:,i],axis=0)-np.min(value[:,i],axis=0))+0.001\n",
    "        elif flag[i]=='-':\n",
    "            value[:,i]=(np.max(value[:,i],axis=0)-value[:,i])/(np.max(value[:,i],axis=0)-np.min(value[:,i],axis=0))+0.001\n",
    "    return value"
   ]
  },
  {
   "cell_type": "code",
   "execution_count": 6,
   "metadata": {
    "ExecuteTime": {
     "end_time": "2024-01-25T13:34:36.194173Z",
     "start_time": "2024-01-25T13:34:36.174109Z"
    }
   },
   "outputs": [],
   "source": [
    "#定义熵值法函数、熵值法计算变量的权重\n",
    "def cal_weight(indicator,project,value):\n",
    "    p= np.array([[0.0 for i in range(len(indicator))] for i in range(len(project))]) # 构造了一个全零矩阵，len(indicator)那么多列，len(project)那么多列                    \n",
    "    ##print(p)\n",
    "    for i in range(len(indicator)):\n",
    "        p[:,i]=value[:,i]/np.sum(value[:,i],axis=0)\n",
    "        \n",
    "    e=-1/np.log(len(project))*sum(p*np.log(p))      #计算熵值\n",
    "    g=1-e     # 计算一致性程度\n",
    "    w=g/sum(g)     #计算权重\n",
    "    return w"
   ]
  },
  {
   "cell_type": "code",
   "execution_count": 7,
   "metadata": {
    "ExecuteTime": {
     "end_time": "2024-01-25T13:34:37.097283Z",
     "start_time": "2024-01-25T13:34:37.059981Z"
    }
   },
   "outputs": [
    {
     "data": {
      "text/plain": [
       "array([[1.000e-03, 1.000e-03, 1.000e-03, 1.000e-03, 1.000e-03, 5.010e-01],\n",
       "       [5.720e-01, 5.460e-01, 1.001e+00, 1.001e+00, 1.000e-03, 1.001e+00],\n",
       "       [4.300e-01, 3.650e-01, 2.090e-01, 5.010e-01, 1.001e+00, 1.000e-03],\n",
       "       [1.001e+00, 1.001e+00, 5.010e-01, 1.001e+00, 1.000e-03, 1.000e-03]])"
      ]
     },
     "execution_count": 7,
     "metadata": {},
     "output_type": "execute_result"
    }
   ],
   "source": [
    "##数据标准化\n",
    "flag=[\"-\",\"+\",\"-\",\"+\",\"+\",\"+\"]  ##表示指标为正向指标还是反向指标\n",
    "std_value=std_data(value,flag)\n",
    "std_value.round(3)"
   ]
  },
  {
   "cell_type": "code",
   "execution_count": 8,
   "metadata": {
    "ExecuteTime": {
     "end_time": "2024-01-25T13:34:38.318439Z",
     "start_time": "2024-01-25T13:34:38.276878Z"
    }
   },
   "outputs": [
    {
     "name": "stdout",
     "output_type": "stream",
     "text": [
      "#######权重:#######\n",
      "           权重\n",
      "油耗   0.096614\n",
      "功率   0.102687\n",
      "费用   0.125472\n",
      "安全性  0.091178\n",
      "维护性  0.378607\n",
      "操作性  0.205443\n"
     ]
    },
    {
     "data": {
      "text/html": [
       "<div>\n",
       "<style scoped>\n",
       "    .dataframe tbody tr th:only-of-type {\n",
       "        vertical-align: middle;\n",
       "    }\n",
       "\n",
       "    .dataframe tbody tr th {\n",
       "        vertical-align: top;\n",
       "    }\n",
       "\n",
       "    .dataframe thead th {\n",
       "        text-align: right;\n",
       "    }\n",
       "</style>\n",
       "<table border=\"1\" class=\"dataframe\">\n",
       "  <thead>\n",
       "    <tr style=\"text-align: right;\">\n",
       "      <th></th>\n",
       "      <th>综合得分</th>\n",
       "    </tr>\n",
       "    <tr>\n",
       "      <th>车型</th>\n",
       "      <th></th>\n",
       "    </tr>\n",
       "  </thead>\n",
       "  <tbody>\n",
       "    <tr>\n",
       "      <th>奥迪</th>\n",
       "      <td>0.53</td>\n",
       "    </tr>\n",
       "    <tr>\n",
       "      <th>桑塔纳</th>\n",
       "      <td>0.53</td>\n",
       "    </tr>\n",
       "    <tr>\n",
       "      <th>别克</th>\n",
       "      <td>0.35</td>\n",
       "    </tr>\n",
       "    <tr>\n",
       "      <th>本田</th>\n",
       "      <td>0.10</td>\n",
       "    </tr>\n",
       "  </tbody>\n",
       "</table>\n",
       "</div>"
      ],
      "text/plain": [
       "     综合得分\n",
       "车型       \n",
       "奥迪   0.53\n",
       "桑塔纳  0.53\n",
       "别克   0.35\n",
       "本田   0.10"
      ]
     },
     "execution_count": 8,
     "metadata": {},
     "output_type": "execute_result"
    }
   ],
   "source": [
    "##结果\n",
    "w=cal_weight(indicator,project,std_value)\n",
    "w=pd.DataFrame(w,index=data.columns,columns=['权重'])\n",
    "print(\"#######权重:#######\")\n",
    "print(w)\n",
    "score=np.dot(std_value,w).round(2)\n",
    "#print(score)\n",
    "score=pd.DataFrame(score,index=data.index,columns=['综合得分']).sort_values(by =['综合得分'],ascending = False)\n",
    "score"
   ]
  },
  {
   "cell_type": "code",
   "execution_count": 7,
   "metadata": {
    "ExecuteTime": {
     "end_time": "2024-01-25T09:15:19.235604Z",
     "start_time": "2024-01-25T09:15:19.228153Z"
    }
   },
   "outputs": [
    {
     "name": "stdout",
     "output_type": "stream",
     "text": [
      "正理想解： [1.001 1.001 1.001 1.001 1.001 1.001] 负理想解： [0.001 0.001 0.001 0.001 0.001 0.001]\n"
     ]
    }
   ],
   "source": [
    "# 使用TOPSIS方法求解\n",
    "# 正理想解和负理想解\n",
    "cplus  = value.max(axis=0)\n",
    "cminus = value.min(axis=0)\n",
    "print(\"正理想解：\",cplus, \"负理想解：\", cminus)"
   ]
  },
  {
   "cell_type": "code",
   "execution_count": 8,
   "metadata": {
    "ExecuteTime": {
     "end_time": "2024-01-25T09:15:21.323781Z",
     "start_time": "2024-01-25T09:15:21.311705Z"
    }
   },
   "outputs": [
    {
     "name": "stdout",
     "output_type": "stream",
     "text": [
      "[1.80277564 1.5915848  1.37187278 1.80277564] [1.5        1.57518067 1.52823366 1.5       ]\n"
     ]
    }
   ],
   "source": [
    "# 到正理想解和负理想解的距离\n",
    "d1 = np.linalg.norm(value-cplus, axis=1)\n",
    "d2 = np.linalg.norm(value-cminus, axis=1)\n",
    "print(d1, d2)"
   ]
  },
  {
   "cell_type": "code",
   "execution_count": 9,
   "metadata": {
    "ExecuteTime": {
     "end_time": "2024-01-25T09:15:22.611173Z",
     "start_time": "2024-01-25T09:15:22.605174Z"
    }
   },
   "outputs": [
    {
     "name": "stdout",
     "output_type": "stream",
     "text": [
      "TOPSIS的评价秩值为： [0.45416346 0.49740995 0.52695778 0.45416346]\n"
     ]
    }
   ],
   "source": [
    "f1 = d2/(d1+d2)\n",
    "print(\"TOPSIS的评价秩值为：\", f1)"
   ]
  },
  {
   "cell_type": "code",
   "execution_count": 10,
   "metadata": {
    "ExecuteTime": {
     "end_time": "2024-01-25T09:15:24.062489Z",
     "start_time": "2024-01-25T09:15:24.042437Z"
    }
   },
   "outputs": [
    {
     "data": {
      "text/html": [
       "<div>\n",
       "<style scoped>\n",
       "    .dataframe tbody tr th:only-of-type {\n",
       "        vertical-align: middle;\n",
       "    }\n",
       "\n",
       "    .dataframe tbody tr th {\n",
       "        vertical-align: top;\n",
       "    }\n",
       "\n",
       "    .dataframe thead th {\n",
       "        text-align: right;\n",
       "    }\n",
       "</style>\n",
       "<table border=\"1\" class=\"dataframe\">\n",
       "  <thead>\n",
       "    <tr style=\"text-align: right;\">\n",
       "      <th></th>\n",
       "      <th>TOPSIS得分</th>\n",
       "    </tr>\n",
       "    <tr>\n",
       "      <th>车型</th>\n",
       "      <th></th>\n",
       "    </tr>\n",
       "  </thead>\n",
       "  <tbody>\n",
       "    <tr>\n",
       "      <th>桑塔纳</th>\n",
       "      <td>0.526958</td>\n",
       "    </tr>\n",
       "    <tr>\n",
       "      <th>奥迪</th>\n",
       "      <td>0.497410</td>\n",
       "    </tr>\n",
       "    <tr>\n",
       "      <th>本田</th>\n",
       "      <td>0.454163</td>\n",
       "    </tr>\n",
       "    <tr>\n",
       "      <th>别克</th>\n",
       "      <td>0.454163</td>\n",
       "    </tr>\n",
       "  </tbody>\n",
       "</table>\n",
       "</div>"
      ],
      "text/plain": [
       "     TOPSIS得分\n",
       "车型           \n",
       "桑塔纳  0.526958\n",
       "奥迪   0.497410\n",
       "本田   0.454163\n",
       "别克   0.454163"
      ]
     },
     "execution_count": 10,
     "metadata": {},
     "output_type": "execute_result"
    }
   ],
   "source": [
    "score=pd.DataFrame(f1,index=data.index,columns=['TOPSIS得分']).sort_values(by =['TOPSIS得分'],ascending = False)\n",
    "score"
   ]
  },
  {
   "cell_type": "code",
   "execution_count": 11,
   "metadata": {
    "ExecuteTime": {
     "end_time": "2024-01-25T09:15:25.293266Z",
     "start_time": "2024-01-25T09:15:25.273286Z"
    }
   },
   "outputs": [
    {
     "name": "stdout",
     "output_type": "stream",
     "text": [
      "\n",
      "关联系数= [[1.         0.33333333 1.         0.33333333 0.33333333 0.5       ]\n",
      " [0.46666667 0.52380952 0.33333333 1.         0.33333333 1.        ]\n",
      " [0.53846154 0.44       0.70588235 0.5        1.         0.33333333]\n",
      " [0.33333333 1.         0.5        1.         0.33333333 0.33333333]] \n",
      "关联度= [0.58333333 0.60952381 0.58627954 0.58333333]\n"
     ]
    }
   ],
   "source": [
    "# 使用灰色关联度进行分析\n",
    "t=cplus-value   #计算参考序列与每个序列的差\n",
    "mmin=t.min()\n",
    "mmax=t.max()\n",
    "rho=0.5  #分辨系数\n",
    "xs=(mmin+rho*mmax)/(t+rho*mmax)  #计算灰色关联系数\n",
    "f2=xs.mean(axis=1)  #求每一行的均值\n",
    "print(\"\\n关联系数=\", xs,'\\n关联度=',f2)  #显示灰色关联系数和灰色关联度"
   ]
  },
  {
   "cell_type": "code",
   "execution_count": 12,
   "metadata": {
    "ExecuteTime": {
     "end_time": "2024-01-25T09:16:11.885249Z",
     "start_time": "2024-01-25T09:16:11.862159Z"
    }
   },
   "outputs": [
    {
     "data": {
      "text/html": [
       "<div>\n",
       "<style scoped>\n",
       "    .dataframe tbody tr th:only-of-type {\n",
       "        vertical-align: middle;\n",
       "    }\n",
       "\n",
       "    .dataframe tbody tr th {\n",
       "        vertical-align: top;\n",
       "    }\n",
       "\n",
       "    .dataframe thead th {\n",
       "        text-align: right;\n",
       "    }\n",
       "</style>\n",
       "<table border=\"1\" class=\"dataframe\">\n",
       "  <thead>\n",
       "    <tr style=\"text-align: right;\">\n",
       "      <th></th>\n",
       "      <th>灰色关联度得分</th>\n",
       "    </tr>\n",
       "    <tr>\n",
       "      <th>车型</th>\n",
       "      <th></th>\n",
       "    </tr>\n",
       "  </thead>\n",
       "  <tbody>\n",
       "    <tr>\n",
       "      <th>奥迪</th>\n",
       "      <td>0.609524</td>\n",
       "    </tr>\n",
       "    <tr>\n",
       "      <th>桑塔纳</th>\n",
       "      <td>0.586280</td>\n",
       "    </tr>\n",
       "    <tr>\n",
       "      <th>本田</th>\n",
       "      <td>0.583333</td>\n",
       "    </tr>\n",
       "    <tr>\n",
       "      <th>别克</th>\n",
       "      <td>0.583333</td>\n",
       "    </tr>\n",
       "  </tbody>\n",
       "</table>\n",
       "</div>"
      ],
      "text/plain": [
       "      灰色关联度得分\n",
       "车型           \n",
       "奥迪   0.609524\n",
       "桑塔纳  0.586280\n",
       "本田   0.583333\n",
       "别克   0.583333"
      ]
     },
     "execution_count": 12,
     "metadata": {},
     "output_type": "execute_result"
    }
   ],
   "source": [
    "# 使用灰色关联度进行打分\n",
    "score=pd.DataFrame(f2,index=data.index,columns=['灰色关联度得分']).sort_values(by =['灰色关联度得分'],ascending = False)\n",
    "score"
   ]
  },
  {
   "cell_type": "code",
   "execution_count": 14,
   "metadata": {
    "ExecuteTime": {
     "end_time": "2024-01-25T09:23:31.911439Z",
     "start_time": "2024-01-25T09:23:31.904921Z"
    }
   },
   "outputs": [],
   "source": [
    "from scipy.stats import rankdata"
   ]
  },
  {
   "cell_type": "code",
   "execution_count": 15,
   "metadata": {
    "ExecuteTime": {
     "end_time": "2024-01-25T09:23:35.259340Z",
     "start_time": "2024-01-25T09:23:35.239166Z"
    }
   },
   "outputs": [
    {
     "name": "stdout",
     "output_type": "stream",
     "text": [
      "\n",
      "秩矩阵为：\n",
      " [[4.  1.  4.  1.  2.  3. ]\n",
      " [2.  3.  1.  3.5 2.  4. ]\n",
      " [3.  2.  3.  2.  4.  1.5]\n",
      " [1.  4.  2.  3.5 2.  1.5]]\n",
      "RSR= [2.5        2.58333333 2.58333333 2.33333333]\n"
     ]
    }
   ],
   "source": [
    "# 使用秩和比方法计算评价值\n",
    "R=[rankdata(value[:,i]) for i in np.arange(6)]  #求每一列的秩\n",
    "R=np.array(R).T   #构造秩矩阵\n",
    "print(\"\\n秩矩阵为：\\n\",R)\n",
    "RSR = R.mean(axis=1)\n",
    "print(\"RSR=\", RSR)"
   ]
  },
  {
   "cell_type": "code",
   "execution_count": 16,
   "metadata": {
    "ExecuteTime": {
     "end_time": "2024-01-25T09:24:13.412847Z",
     "start_time": "2024-01-25T09:24:13.394428Z"
    }
   },
   "outputs": [
    {
     "data": {
      "text/html": [
       "<div>\n",
       "<style scoped>\n",
       "    .dataframe tbody tr th:only-of-type {\n",
       "        vertical-align: middle;\n",
       "    }\n",
       "\n",
       "    .dataframe tbody tr th {\n",
       "        vertical-align: top;\n",
       "    }\n",
       "\n",
       "    .dataframe thead th {\n",
       "        text-align: right;\n",
       "    }\n",
       "</style>\n",
       "<table border=\"1\" class=\"dataframe\">\n",
       "  <thead>\n",
       "    <tr style=\"text-align: right;\">\n",
       "      <th></th>\n",
       "      <th>灰色关联度得分</th>\n",
       "    </tr>\n",
       "    <tr>\n",
       "      <th>车型</th>\n",
       "      <th></th>\n",
       "    </tr>\n",
       "  </thead>\n",
       "  <tbody>\n",
       "    <tr>\n",
       "      <th>奥迪</th>\n",
       "      <td>2.583333</td>\n",
       "    </tr>\n",
       "    <tr>\n",
       "      <th>桑塔纳</th>\n",
       "      <td>2.583333</td>\n",
       "    </tr>\n",
       "    <tr>\n",
       "      <th>本田</th>\n",
       "      <td>2.500000</td>\n",
       "    </tr>\n",
       "    <tr>\n",
       "      <th>别克</th>\n",
       "      <td>2.333333</td>\n",
       "    </tr>\n",
       "  </tbody>\n",
       "</table>\n",
       "</div>"
      ],
      "text/plain": [
       "      灰色关联度得分\n",
       "车型           \n",
       "奥迪   2.583333\n",
       "桑塔纳  2.583333\n",
       "本田   2.500000\n",
       "别克   2.333333"
      ]
     },
     "execution_count": 16,
     "metadata": {},
     "output_type": "execute_result"
    }
   ],
   "source": [
    "# 使用秩和比方法得到结果\n",
    "score=pd.DataFrame(RSR,index=data.index,columns=['灰色关联度得分']).sort_values(by =['灰色关联度得分'],ascending = False)\n",
    "score"
   ]
  },
  {
   "cell_type": "markdown",
   "metadata": {},
   "source": [
    "## 指标标准化、对缺失值或者零的处理\n",
    "https://blog.csdn.net/yang978897961/article/details/79164829/ https://wenku.baidu.com/view/c435130f393567ec102de2bd960590c69ec3d882.html https://blog.csdn.net/weixin_43425784/article/details/107047869?utm_medium=distribute.pc_relevant.none-task-blog-2%7Edefault%7EBlogCommendFromMachineLearnPai2%7Edefault-3.control&depth_1-utm_source=distribute.pc_relevant.none-task-blog-2%7Edefault%7EBlogCommendFromMachineLearnPai2%7Edefault-3.control\n",
    "为了避免求熵值时对数无意义，对数据进行平移"
   ]
  }
 ],
 "metadata": {
  "kernelspec": {
   "display_name": "Python 3 (ipykernel)",
   "language": "python",
   "name": "python3"
  },
  "language_info": {
   "codemirror_mode": {
    "name": "ipython",
    "version": 3
   },
   "file_extension": ".py",
   "mimetype": "text/x-python",
   "name": "python",
   "nbconvert_exporter": "python",
   "pygments_lexer": "ipython3",
   "version": "3.9.13"
  }
 },
 "nbformat": 4,
 "nbformat_minor": 2
}
