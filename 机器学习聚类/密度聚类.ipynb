{
 "cells": [
  {
   "cell_type": "markdown",
   "metadata": {},
   "source": [
    "优点\n",
    "只要一个区域中的点的密度大于某个域值，就把它加到与之相近的聚类中去。这类算法能克服基于距离的算法只能发现“类圆形”的聚类的缺点，可发现任意形状的聚类，且对噪声数据不敏感。\n",
    "将簇定义为密度相连的点的最大集合，能够把具有足够高密度的区域划分为簇，并可在有“噪声”的空间数据库中发现任意形状的聚类。\n",
    "尤其环状数据 kmeans根本发现不了\n",
    "缺点\n",
    "当空间聚类的密度不均匀、聚类间距差相差很大时，聚类质量较差。"
   ]
  },
  {
   "cell_type": "code",
   "execution_count": null,
   "metadata": {},
   "outputs": [],
   "source": [
    "%matplotlib inline\n",
    "import matplotlib.pyplot as plt\n",
    "import numpy as np\n",
    "#加载数据集\n",
    "from sklearn.datasets import load_breast_cancer\n",
    "import pandas as pd\n",
    "\n",
    "# 明确什么是特征数据 什么是目标数据\n",
    "# 从乳腺癌数据集中获取特征数据并创建DataFrame\n",
    "features = pd.DataFrame(load_breast_cancer().data, \n",
    "                        columns=load_breast_cancer().feature_names)\n",
    "# 获取标签数据并创建DataFrame，标签代表是否患有乳腺癌（0表示恶性，1表示良性）\n",
    "label = pd.DataFrame(load_breast_cancer().target, \n",
    "                     columns=['class'])\n",
    "# 将特征数据和标签数据合并成一个数据集\n",
    "data = pd.concat([features, label], axis=1)"
   ]
  },
  {
   "cell_type": "code",
   "execution_count": 10,
   "metadata": {},
   "outputs": [
    {
     "name": "stdout",
     "output_type": "stream",
     "text": [
      "   sepal length (cm)  sepal width (cm)  petal length (cm)  petal width (cm)  \\\n",
      "0                5.1               3.5                1.4               0.2   \n",
      "1                4.9               3.0                1.4               0.2   \n",
      "2                4.7               3.2                1.3               0.2   \n",
      "3                4.6               3.1                1.5               0.2   \n",
      "4                5.0               3.6                1.4               0.2   \n",
      "\n",
      "   class  \n",
      "0      0  \n",
      "1      0  \n",
      "2      0  \n",
      "3      0  \n",
      "4      0  \n",
      "聚类结果: [ 0  0  0  0  0  0  0  0  0  0  0  0  0  0 -1 -1  0  0  0  0  0  0  0  0\n",
      "  0  0  0  0  0  0  0  0 -1 -1  0  0  0  0  0  0  0 -1  0  0  0  0  0  0\n",
      "  0  0  1  1  1  1  1  1 -1 -1  1 -1 -1  1 -1  1  1  1  1  1 -1  1  1  1\n",
      " -1  1  1  1  1  1  1  1  1  1  1  1  1 -1  1 -1  1  1  1  1  1 -1  1  1\n",
      "  1  1 -1  1 -1  1  1  1  1 -1 -1 -1 -1 -1  1  1  1  1 -1  1  1 -1 -1 -1\n",
      "  1  1 -1  1  1 -1  1  1  1 -1 -1 -1  1  1  1 -1 -1  1  1  1  1  1  1  1\n",
      "  1  1  1  1 -1  1]\n"
     ]
    }
   ],
   "source": [
    "from sklearn.cluster import DBSCAN\n",
    "from sklearn.datasets import load_iris\n",
    "from sklearn.preprocessing import StandardScaler\n",
    "\n",
    "# 加载数据集  要改变所加载的数据集只需要改这里就好\n",
    "iris = load_iris()\n",
    "features = pd.DataFrame(iris.data, \n",
    "                        columns=iris.feature_names)\n",
    "\n",
    "label = pd.DataFrame(iris.target, \n",
    "                     columns=['class'])\n",
    "# 将特征数据和标签数据合并成一个数据集\n",
    "data = pd.concat([features, label], axis=1)\n",
    "print(data.head())\n",
    "\n",
    "# 数据预处理，标准化数据\n",
    "scaler = StandardScaler()\n",
    "X = scaler.fit_transform(X)\n",
    "\n",
    "# 使用DBSCAN聚类算法\n",
    "dbscan = DBSCAN(eps=0.5, min_samples=5)\n",
    "y_pred = dbscan.fit_predict(X)\n",
    "\n",
    "# 输出聚类结果\n",
    "print('聚类结果:', y_pred)"
   ]
  }
 ],
 "metadata": {
  "kernelspec": {
   "display_name": "sksklearn",
   "language": "python",
   "name": "python3"
  },
  "language_info": {
   "codemirror_mode": {
    "name": "ipython",
    "version": 3
   },
   "file_extension": ".py",
   "mimetype": "text/x-python",
   "name": "python",
   "nbconvert_exporter": "python",
   "pygments_lexer": "ipython3",
   "version": "3.11.7"
  }
 },
 "nbformat": 4,
 "nbformat_minor": 2
}
