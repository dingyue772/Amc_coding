{
 "cells": [
  {
   "cell_type": "markdown",
   "metadata": {},
   "source": [
    "21C\n",
    "23C\n",
    "划分聚类算法（K-means聚类算法）\n",
    "层次聚类算法（ AGNES 、 DIANA ）\n",
    "密度聚类算法（ DBSCAN ）"
   ]
  },
  {
   "cell_type": "markdown",
   "metadata": {},
   "source": [
    "优点： \n",
    "1.算法快速、简单。\n",
    "2.对大数据集有较高的效率并且是可伸缩性的。\n",
    "3.时间复杂度近于线性，而且适合挖掘大规模数据集。\n",
    "缺点：\n",
    "1.K-means 算法中 K 是事先给定的，这个 K 值的选定是非常难以估计，很多时候，事先并不知道数据集应该分成多少个类别才最合适。\n",
    "2. K-means 算法中，需要根据初始聚类中心来确定一个初始划分，然后对初始划分进行优化。这个初始聚类中心的选择对聚类结果有较大的影响，一旦初始值选择的不好，可能无法得到有效的聚类结果。\n",
    "3.不适合于发现非凸面形状的簇或者大小差别很大的簇。而且，它对于“躁声”和孤立点数据是敏感的。"
   ]
  },
  {
   "cell_type": "code",
   "execution_count": null,
   "metadata": {},
   "outputs": [],
   "source": []
  }
 ],
 "metadata": {
  "language_info": {
   "name": "python"
  }
 },
 "nbformat": 4,
 "nbformat_minor": 2
}
