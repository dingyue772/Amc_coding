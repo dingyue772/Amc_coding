{
 "cells": [
  {
   "cell_type": "markdown",
   "metadata": {},
   "source": [
    "逻辑回归\n",
    "1. 实质是基于回归的分类 分成两个类别的二分类\n",
    "2. (如果只能用二分类的话是不是不如贝叶斯) 但是如果你会python的话也可以用来解决多分类问题\n",
    "3. 主要思想是将线性组合的特征值通过一个逻辑函数（也称为sigmoid函数）映射到0和1之间的概率值\n",
    "4. sigmoid函数\n",
    "   $$\n",
    "    \\sigma(z) = \\frac{1}{1 + e^{-z}}\n",
    "    $$\n"
   ]
  },
  {
   "cell_type": "markdown",
   "metadata": {},
   "source": []
  },
  {
   "cell_type": "code",
   "execution_count": 26,
   "metadata": {},
   "outputs": [],
   "source": [
    "%matplotlib inline\n",
    "import matplotlib.pyplot as plt\n",
    "import numpy as np\n",
    "#加载数据集\n",
    "from sklearn.datasets import load_breast_cancer\n",
    "import pandas as pd\n",
    "\n",
    "# 明确什么是特征数据 什么是目标数据\n",
    "# 从乳腺癌数据集中获取特征数据并创建DataFrame\n",
    "features = pd.DataFrame(load_breast_cancer().data, \n",
    "                        columns=load_breast_cancer().feature_names)\n",
    "# 获取标签数据并创建DataFrame，标签代表是否患有乳腺癌（0表示恶性，1表示良性）\n",
    "label = pd.DataFrame(load_breast_cancer().target, \n",
    "                     columns=['class'])\n",
    "# 将特征数据和标签数据合并成一个数据集\n",
    "data = pd.concat([features, label], axis=1)\n",
    "\n",
    "\n",
    "path = 'data.csv'\n",
    "data.to_csv(path,index = False)#不输出索引值\n",
    "# 读入文件\n",
    "mydata = pd.read_csv(path)\n",
    "\n",
    "# 提取 'class' 列中的数据\n",
    "cls=mydata['class']\n",
    "\n",
    "# 使用列表推导式为 'class' 列创建 'label' 列\n",
    "# class是原分类 label是打上去的标签 \n",
    "label = [0 if i == 0 else 1 for i in cls]  # 列表推导式，如果 'class' 是 'Benign'，则标签为0，否则为1\n",
    "\n",
    "# 将 'label' 列添加到 mydata 中\n",
    "mydata['label'] = label\n",
    "\n",
    "# 在sklearn中0、1标签已经打好，但是在真实场景中不会有这种虚拟标签，而是具有实际意义的类别。因此，我们需要手动替换class列的0为Benign，替换1为Malignant。"
   ]
  },
  {
   "cell_type": "code",
   "execution_count": 27,
   "metadata": {},
   "outputs": [],
   "source": [
    "# 导入 train_test_split 函数\n",
    "from sklearn.model_selection import train_test_split\n",
    "\n",
    "# 从 mydata 中获取特征矩阵 x 和目标向量 y\n",
    "x = mydata.copy().drop(columns=['class', 'label'])  # 特征矩阵 x 包含除 'class' 和 'label' 列之外的所有特征\n",
    "y = mydata['label']  # 目标向量 y 包含 'label' 列的数据\n",
    "\n",
    "# 划分数据集为训练集和测试集，测试集占比为20%，同时设置随机种子 random_state 为0以确保结果可重复\n",
    "x_train, x_test, y_train, y_test = train_test_split(x, y, test_size=0.2, random_state=0)\n"
   ]
  },
  {
   "cell_type": "code",
   "execution_count": 28,
   "metadata": {},
   "outputs": [
    {
     "name": "stdout",
     "output_type": "stream",
     "text": [
      "[0.3]\n",
      "[[ 1.53  0.29  0.06 -0.   -0.06 -0.29 -0.39 -0.16 -0.11 -0.02  0.08  0.61\n",
      "   0.4  -0.13 -0.   -0.06 -0.09 -0.02 -0.02 -0.01  1.67 -0.4  -0.24 -0.02\n",
      "  -0.11 -0.93 -1.17 -0.33 -0.32 -0.09]]\n"
     ]
    },
    {
     "name": "stderr",
     "output_type": "stream",
     "text": [
      "g:\\anaconda\\envs\\sksklearn\\Lib\\site-packages\\sklearn\\linear_model\\_logistic.py:458: ConvergenceWarning: lbfgs failed to converge (status=1):\n",
      "STOP: TOTAL NO. of ITERATIONS REACHED LIMIT.\n",
      "\n",
      "Increase the number of iterations (max_iter) or scale the data as shown in:\n",
      "    https://scikit-learn.org/stable/modules/preprocessing.html\n",
      "Please also refer to the documentation for alternative solver options:\n",
      "    https://scikit-learn.org/stable/modules/linear_model.html#logistic-regression\n",
      "  n_iter_i = _check_optimize_result(\n"
     ]
    }
   ],
   "source": [
    "# 导入逻辑回归模型\n",
    "from sklearn.linear_model import LogisticRegression\n",
    "\n",
    "# 实例化逻辑回归模型\n",
    "LR = LogisticRegression()\n",
    "\n",
    "# 使用训练数据 x_train 和 y_train 拟合模型\n",
    "LR.fit(x_train.values, y_train.ravel())\n",
    "\n",
    "# 查看拟合后的模型参数\n",
    "# 截距项\n",
    "a = LR.intercept_\n",
    "# 自变量 x1~xn 的系数\n",
    "b = LR.coef_\n",
    "\n",
    "# 导入 NumPy 库\n",
    "import numpy as np\n",
    "\n",
    "# 打印截距项和系数，使用 np.round 函数将参数值保留两位小数\n",
    "print(np.round(a, 2))\n",
    "print(np.round(b, 2))\n"
   ]
  },
  {
   "cell_type": "markdown",
   "metadata": {},
   "source": [
    "则根据上述截距a  系数b  得出  逻辑回归中的最终表达式\n",
    "$$\n",
    "y = \\frac{1}{a + e^{-(0.31 + 1.54X_1 + 0.30X_2 + 0.06X_3 + \\ldots - 0.10X_{30})}}\n",
    "$$"
   ]
  },
  {
   "cell_type": "code",
   "execution_count": 29,
   "metadata": {},
   "outputs": [
    {
     "name": "stdout",
     "output_type": "stream",
     "text": [
      "[0 1 1 1 1 1 1 1 1 1 1 1 1 0 1 0 1 0 0 0 0 0 1 1 0 1 1 0 1 0 1 0 1 0 1 0 1\n",
      " 0 1 0 0 1 0 1 0 0 1 1 1 0 0 1 0 1 1 1 1 1 1 0 0 0 1 1 0 1 0 0 0 1 0 0 1 1\n",
      " 0 1 1 1 1 1 0 0 0 1 0 1 1 1 0 0 1 0 0 0 1 1 0 1 1 1 1 1 1 1 0 1 0 1 0 0 1\n",
      " 0 0 1]\n"
     ]
    }
   ],
   "source": [
    "prediction = LR.predict(x_test.values)#对测试集进行预测\n",
    "print(prediction)"
   ]
  },
  {
   "cell_type": "code",
   "execution_count": 30,
   "metadata": {},
   "outputs": [
    {
     "data": {
      "text/plain": [
       "Text(0.5, 1.0, 'ROC Curve')"
      ]
     },
     "execution_count": 30,
     "metadata": {},
     "output_type": "execute_result"
    },
    {
     "data": {
      "image/png": "[encoded data removed]",
      "text/plain": [
       "<Figure size 640x480 with 1 Axes>"
      ]
     },
     "metadata": {},
     "output_type": "display_data"
    },
    {
     "ename": "",
     "evalue": "",
     "output_type": "error",
     "traceback": [
      "\u001b[1;31mThe Kernel crashed while executing code in the the current cell or a previous cell. Please review the code in the cell(s) to identify a possible cause of the failure. Click <a href='https://aka.ms/vscodeJupyterKernelCrash'>here</a> for more info. View Jupyter <a href='command:jupyter.viewOutput'>log</a> for further details."
     ]
    }
   ],
   "source": [
    "# 只有对二分类问题才能绘制的roc曲线  越接近1效果越好\n",
    "from sklearn.metrics import roc_curve\n",
    "fpr,tpr,threshold = roc_curve(y_test, prediction) #fpr为false positive rate，tpr为true positive rate\n",
    "\n",
    "import matplotlib.pyplot as plt\n",
    "plt.plot(fpr, tpr, color='r') \n",
    "plt.plot([0, 1], [0, 1], color='blue',linestyle='--')\n",
    "plt.xlim([0.0, 1.0])\n",
    "plt.ylim([0.0, 1.0])\n",
    "plt.xlabel('False Positive Rate')\n",
    "plt.ylabel('True Positive Rate')\n",
    "plt.title('ROC Curve')"
   ]
  }
 ],
 "metadata": {
  "kernelspec": {
   "display_name": "sksklearn",
   "language": "python",
   "name": "python3"
  },
  "language_info": {
   "codemirror_mode": {
    "name": "ipython",
    "version": 3
   },
   "file_extension": ".py",
   "mimetype": "text/x-python",
   "name": "python",
   "nbconvert_exporter": "python",
   "pygments_lexer": "ipython3",
   "version": "3.11.7"
  }
 },
 "nbformat": 4,
 "nbformat_minor": 2
}
