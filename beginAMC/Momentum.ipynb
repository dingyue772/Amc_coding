{
 "cells": [
  {
   "cell_type": "code",
   "execution_count": 1,
   "id": "ddbb0200",
   "metadata": {
    "ExecuteTime": {
     "end_time": "2024-02-05T08:59:30.736679Z",
     "start_time": "2024-02-05T08:59:28.548797Z"
    }
   },
   "outputs": [
    {
     "data": {
      "text/html": [
       "<div>\n",
       "<style scoped>\n",
       "    .dataframe tbody tr th:only-of-type {\n",
       "        vertical-align: middle;\n",
       "    }\n",
       "\n",
       "    .dataframe tbody tr th {\n",
       "        vertical-align: top;\n",
       "    }\n",
       "\n",
       "    .dataframe thead th {\n",
       "        text-align: right;\n",
       "    }\n",
       "</style>\n",
       "<table border=\"1\" class=\"dataframe\">\n",
       "  <thead>\n",
       "    <tr style=\"text-align: right;\">\n",
       "      <th></th>\n",
       "      <th>point_victor</th>\n",
       "      <th>p1_ace_sum</th>\n",
       "      <th>p2_ace_sum</th>\n",
       "      <th>p1_winner_sum</th>\n",
       "      <th>p2_winner_sum</th>\n",
       "      <th>p1_double_fault_sum</th>\n",
       "      <th>p2_double_fault_sum</th>\n",
       "      <th>p1_unf_err_sum</th>\n",
       "      <th>p2_unf_err_sum</th>\n",
       "      <th>p1_break_pt_sum</th>\n",
       "      <th>p2_break_pt_sum</th>\n",
       "      <th>p1_break_pt_won_sum</th>\n",
       "      <th>p2_break_pt_won_sum</th>\n",
       "      <th>p1_break_pt_won_ratio</th>\n",
       "      <th>p2_break_pt_won_ratio</th>\n",
       "    </tr>\n",
       "  </thead>\n",
       "  <tbody>\n",
       "    <tr>\n",
       "      <th>0</th>\n",
       "      <td>0</td>\n",
       "      <td>0</td>\n",
       "      <td>0</td>\n",
       "      <td>0</td>\n",
       "      <td>0</td>\n",
       "      <td>0</td>\n",
       "      <td>0</td>\n",
       "      <td>0</td>\n",
       "      <td>0</td>\n",
       "      <td>0</td>\n",
       "      <td>0</td>\n",
       "      <td>0</td>\n",
       "      <td>0</td>\n",
       "      <td>0.0</td>\n",
       "      <td>0.0</td>\n",
       "    </tr>\n",
       "    <tr>\n",
       "      <th>1</th>\n",
       "      <td>1</td>\n",
       "      <td>0</td>\n",
       "      <td>0</td>\n",
       "      <td>0</td>\n",
       "      <td>0</td>\n",
       "      <td>0</td>\n",
       "      <td>0</td>\n",
       "      <td>0</td>\n",
       "      <td>0</td>\n",
       "      <td>0</td>\n",
       "      <td>0</td>\n",
       "      <td>0</td>\n",
       "      <td>0</td>\n",
       "      <td>0.0</td>\n",
       "      <td>0.0</td>\n",
       "    </tr>\n",
       "    <tr>\n",
       "      <th>2</th>\n",
       "      <td>1</td>\n",
       "      <td>0</td>\n",
       "      <td>0</td>\n",
       "      <td>1</td>\n",
       "      <td>0</td>\n",
       "      <td>0</td>\n",
       "      <td>0</td>\n",
       "      <td>0</td>\n",
       "      <td>0</td>\n",
       "      <td>0</td>\n",
       "      <td>0</td>\n",
       "      <td>0</td>\n",
       "      <td>0</td>\n",
       "      <td>0.0</td>\n",
       "      <td>0.0</td>\n",
       "    </tr>\n",
       "    <tr>\n",
       "      <th>3</th>\n",
       "      <td>0</td>\n",
       "      <td>0</td>\n",
       "      <td>0</td>\n",
       "      <td>1</td>\n",
       "      <td>0</td>\n",
       "      <td>0</td>\n",
       "      <td>0</td>\n",
       "      <td>0</td>\n",
       "      <td>0</td>\n",
       "      <td>0</td>\n",
       "      <td>0</td>\n",
       "      <td>0</td>\n",
       "      <td>0</td>\n",
       "      <td>0.0</td>\n",
       "      <td>0.0</td>\n",
       "    </tr>\n",
       "    <tr>\n",
       "      <th>4</th>\n",
       "      <td>1</td>\n",
       "      <td>0</td>\n",
       "      <td>0</td>\n",
       "      <td>1</td>\n",
       "      <td>0</td>\n",
       "      <td>0</td>\n",
       "      <td>0</td>\n",
       "      <td>0</td>\n",
       "      <td>1</td>\n",
       "      <td>0</td>\n",
       "      <td>0</td>\n",
       "      <td>0</td>\n",
       "      <td>0</td>\n",
       "      <td>0.0</td>\n",
       "      <td>0.0</td>\n",
       "    </tr>\n",
       "  </tbody>\n",
       "</table>\n",
       "</div>"
      ],
      "text/plain": [
       "   point_victor  p1_ace_sum  p2_ace_sum  p1_winner_sum  p2_winner_sum  \\\n",
       "0             0           0           0              0              0   \n",
       "1             1           0           0              0              0   \n",
       "2             1           0           0              1              0   \n",
       "3             0           0           0              1              0   \n",
       "4             1           0           0              1              0   \n",
       "\n",
       "   p1_double_fault_sum  p2_double_fault_sum  p1_unf_err_sum  p2_unf_err_sum  \\\n",
       "0                    0                    0               0               0   \n",
       "1                    0                    0               0               0   \n",
       "2                    0                    0               0               0   \n",
       "3                    0                    0               0               0   \n",
       "4                    0                    0               0               1   \n",
       "\n",
       "   p1_break_pt_sum  p2_break_pt_sum  p1_break_pt_won_sum  p2_break_pt_won_sum  \\\n",
       "0                0                0                    0                    0   \n",
       "1                0                0                    0                    0   \n",
       "2                0                0                    0                    0   \n",
       "3                0                0                    0                    0   \n",
       "4                0                0                    0                    0   \n",
       "\n",
       "   p1_break_pt_won_ratio  p2_break_pt_won_ratio  \n",
       "0                    0.0                    0.0  \n",
       "1                    0.0                    0.0  \n",
       "2                    0.0                    0.0  \n",
       "3                    0.0                    0.0  \n",
       "4                    0.0                    0.0  "
      ]
     },
     "execution_count": 1,
     "metadata": {},
     "output_type": "execute_result"
    }
   ],
   "source": [
    "import pandas as pd\n",
    "file_path = '决赛数据processed.xlsx'\n",
    "data = pd.read_excel(file_path)\n",
    "data_selected = data.loc[:, ['point_victor', 'p1_ace_sum', 'p2_ace_sum', 'p1_winner_sum', 'p2_winner_sum', \n",
    "                             'p1_double_fault_sum', 'p2_double_fault_sum', 'p1_unf_err_sum', 'p2_unf_err_sum', \n",
    "                             'p1_break_pt_sum', 'p2_break_pt_sum', 'p1_break_pt_won_sum', \n",
    "                             'p2_break_pt_won_sum', 'p1_break_pt_won_ratio', 'p2_break_pt_won_ratio']]\n",
    "data_selected['point_victor'] = data_selected['point_victor'].replace(2,0)\n",
    "data_selected['point_victor'] = data_selected['point_victor'].astype('category').cat.codes\n",
    "data_selected.head()"
   ]
  },
  {
   "cell_type": "code",
   "execution_count": 2,
   "id": "a6aa042f",
   "metadata": {
    "ExecuteTime": {
     "end_time": "2024-02-05T08:59:30.798081Z",
     "start_time": "2024-02-05T08:59:30.741685Z"
    },
    "scrolled": true
   },
   "outputs": [
    {
     "name": "stdout",
     "output_type": "stream",
     "text": [
      "<class 'pandas.core.frame.DataFrame'>\n",
      "RangeIndex: 334 entries, 0 to 333\n",
      "Data columns (total 15 columns):\n",
      " #   Column                 Non-Null Count  Dtype  \n",
      "---  ------                 --------------  -----  \n",
      " 0   point_victor           334 non-null    int8   \n",
      " 1   p1_ace_sum             334 non-null    int64  \n",
      " 2   p2_ace_sum             334 non-null    int64  \n",
      " 3   p1_winner_sum          334 non-null    int64  \n",
      " 4   p2_winner_sum          334 non-null    int64  \n",
      " 5   p1_double_fault_sum    334 non-null    int64  \n",
      " 6   p2_double_fault_sum    334 non-null    int64  \n",
      " 7   p1_unf_err_sum         334 non-null    int64  \n",
      " 8   p2_unf_err_sum         334 non-null    int64  \n",
      " 9   p1_break_pt_sum        334 non-null    int64  \n",
      " 10  p2_break_pt_sum        334 non-null    int64  \n",
      " 11  p1_break_pt_won_sum    334 non-null    int64  \n",
      " 12  p2_break_pt_won_sum    334 non-null    int64  \n",
      " 13  p1_break_pt_won_ratio  334 non-null    float64\n",
      " 14  p2_break_pt_won_ratio  334 non-null    float64\n",
      "dtypes: float64(2), int64(12), int8(1)\n",
      "memory usage: 37.0 KB\n",
      "       point_victor  p1_ace_sum  p2_ace_sum  p1_winner_sum  p2_winner_sum  \\\n",
      "count    334.000000  334.000000  334.000000     334.000000      334.00000   \n",
      "mean       0.502994    0.206587    0.062874       2.263473        0.94012   \n",
      "std        0.500741    0.427105    0.243101       1.605933        0.86090   \n",
      "min        0.000000    0.000000    0.000000       0.000000        0.00000   \n",
      "25%        0.000000    0.000000    0.000000       1.000000        0.00000   \n",
      "50%        1.000000    0.000000    0.000000       2.000000        1.00000   \n",
      "75%        1.000000    0.000000    0.000000       3.000000        2.00000   \n",
      "max        1.000000    2.000000    1.000000       7.000000        3.00000   \n",
      "\n",
      "       p1_double_fault_sum  p2_double_fault_sum  p1_unf_err_sum  \\\n",
      "count           334.000000           334.000000      334.000000   \n",
      "mean              0.272455             0.179641        1.754491   \n",
      "std               0.585630             0.384464        1.310466   \n",
      "min               0.000000             0.000000        0.000000   \n",
      "25%               0.000000             0.000000        1.000000   \n",
      "50%               0.000000             0.000000        2.000000   \n",
      "75%               0.000000             0.000000        3.000000   \n",
      "max               2.000000             1.000000        5.000000   \n",
      "\n",
      "       p2_unf_err_sum  p1_break_pt_sum  p2_break_pt_sum  p1_break_pt_won_sum  \\\n",
      "count      334.000000       334.000000       334.000000           334.000000   \n",
      "mean         1.787425         0.694611         0.550898             0.101796   \n",
      "std          2.448207         1.358822         0.953317             0.302834   \n",
      "min          0.000000         0.000000         0.000000             0.000000   \n",
      "25%          0.000000         0.000000         0.000000             0.000000   \n",
      "50%          1.000000         0.000000         0.000000             0.000000   \n",
      "75%          2.000000         1.000000         1.000000             0.000000   \n",
      "max         12.000000         7.000000         3.000000             1.000000   \n",
      "\n",
      "       p2_break_pt_won_sum  p1_break_pt_won_ratio  p2_break_pt_won_ratio  \n",
      "count           334.000000             334.000000             334.000000  \n",
      "mean              0.119760               0.212775               0.345315  \n",
      "std               0.325168               0.104552               0.087559  \n",
      "min               0.000000               0.000000               0.000000  \n",
      "25%               0.000000               0.222222               0.333333  \n",
      "50%               0.000000               0.250000               0.333333  \n",
      "75%               0.000000               0.263158               0.428571  \n",
      "max               1.000000               0.333333               0.428571  \n"
     ]
    }
   ],
   "source": [
    "data_selected.info()\n",
    "print(data_selected.describe())"
   ]
  },
  {
   "cell_type": "code",
   "execution_count": 3,
   "id": "a3201fae",
   "metadata": {
    "ExecuteTime": {
     "end_time": "2024-02-05T08:59:44.862667Z",
     "start_time": "2024-02-05T08:59:43.296184Z"
    }
   },
   "outputs": [
    {
     "name": "stdout",
     "output_type": "stream",
     "text": [
      "Accuracy: 0.6119402985074627\n",
      "              precision    recall  f1-score   support\n",
      "\n",
      "           0       0.67      0.59      0.63        37\n",
      "           1       0.56      0.63      0.59        30\n",
      "\n",
      "    accuracy                           0.61        67\n",
      "   macro avg       0.61      0.61      0.61        67\n",
      "weighted avg       0.62      0.61      0.61        67\n",
      "\n"
     ]
    }
   ],
   "source": [
    "from sklearn.model_selection import train_test_split\n",
    "from sklearn.ensemble import RandomForestClassifier\n",
    "from sklearn.metrics import accuracy_score, classification_report\n",
    "# 划分数据集\n",
    "X = data_selected.drop('point_victor', axis=1)  # 特征矩阵\n",
    "y = data_selected['point_victor']  # 标签\n",
    "X_train, X_test, y_train, y_test = train_test_split(X, y, test_size=0.2, random_state=42)\n",
    "# 定义模型\n",
    "model = RandomForestClassifier(n_estimators=60, random_state=42)\n",
    "model.fit(X_train, y_train)\n",
    "# 预测与评估\n",
    "y_pred = model.predict(X_test)\n",
    "print(\"Accuracy:\", accuracy_score(y_test, y_pred))\n",
    "print(classification_report(y_test, y_pred))\n",
    "# 使用.predict_proba()获取每个类别的概率\n",
    "probabilities = model.predict_proba(X)\n",
    "scores = probabilities[:, 1]\n",
    "scores\n",
    "scores_df = pd.DataFrame(scores, columns=['Scores'])\n",
    "file_path = 'momentum_prediction.xlsx'\n",
    "scores_df.to_excel(file_path, index=False)"
   ]
  },
  {
   "cell_type": "code",
   "execution_count": 18,
   "id": "cac0f452",
   "metadata": {
    "ExecuteTime": {
     "end_time": "2024-02-05T05:31:10.755233Z",
     "start_time": "2024-02-05T05:31:10.528204Z"
    }
   },
   "outputs": [
    {
     "data": {
      "image/png": "[encoded data removed]",
      "text/plain": [
       "<Figure size 1000x800 with 1 Axes>"
      ]
     },
     "metadata": {},
     "output_type": "display_data"
    }
   ],
   "source": [
    "import numpy as np\n",
    "import matplotlib.pyplot as plt\n",
    "# 获取特征重要性\n",
    "feature_importances = model.feature_importances_\n",
    "\n",
    "# 可视化特征重要性\n",
    "features = X.columns\n",
    "indices = np.argsort(feature_importances)[::-1]\n",
    "\n",
    "plt.figure(figsize=(10, 8))\n",
    "plt.title(\"Feature Importances\")\n",
    "plt.bar(range(X.shape[1]), feature_importances[indices], align=\"center\")\n",
    "plt.xticks(range(X.shape[1]), features[indices], rotation=90)\n",
    "plt.xlim([-1, X.shape[1]])\n",
    "plt.show()"
   ]
  },
  {
   "cell_type": "code",
   "execution_count": 38,
   "id": "3cf52d09",
   "metadata": {
    "ExecuteTime": {
     "end_time": "2024-02-05T06:00:42.318381Z",
     "start_time": "2024-02-05T06:00:41.321189Z"
    }
   },
   "outputs": [
    {
     "data": {
      "image/png": "[encoded data removed]",
      "text/plain": [
       "<Figure size 1000x600 with 1 Axes>"
      ]
     },
     "metadata": {},
     "output_type": "display_data"
    }
   ],
   "source": [
    "from scipy.interpolate import make_interp_spline\n",
    "# 初始化n_estimators范围\n",
    "n_estimators_range = range(59, 65, 1)  # 从40到60，步长为1\n",
    "\n",
    "# 存储每个n_estimators的准确率\n",
    "n_estimators_list = []\n",
    "accuracy_list = []\n",
    "\n",
    "# 遍历n_estimators值\n",
    "for n_estimators in n_estimators_range:\n",
    "    model = RandomForestClassifier(n_estimators=n_estimators, random_state=42)\n",
    "    model.fit(X_train, y_train)\n",
    "    y_pred = model.predict(X_test)\n",
    "    accuracy = accuracy_score(y_test, y_pred)\n",
    "    \n",
    "    # 保存结果\n",
    "    n_estimators_list.append(n_estimators)\n",
    "    accuracy_list.append(accuracy)\n",
    "\n",
    "# 将列表转换为numpy数组，用于插值\n",
    "n_estimators_array = np.array(n_estimators_list)\n",
    "accuracy_array = np.array(accuracy_list)\n",
    "\n",
    "# 创建一个平滑的插值曲线\n",
    "spl = make_interp_spline(n_estimators_array, accuracy_array, k=3)  # k是平滑曲线的弯曲度，通常3是个好选择\n",
    "\n",
    "# 生成平滑后的x轴数据，这里我们生成更多的点，以便让曲线更平滑\n",
    "x_smooth = np.linspace(n_estimators_array.min(), n_estimators_array.max(), 300)\n",
    "\n",
    "# 计算对应的y轴数据\n",
    "y_smooth = spl(x_smooth)\n",
    "\n",
    "# 绘制平滑后的折线图\n",
    "plt.figure(figsize=(10, 6))\n",
    "plt.plot(x_smooth, y_smooth, linestyle='-', color='g')\n",
    "plt.xlabel('Number of Estimators')\n",
    "plt.ylabel('Accuracy')\n",
    "plt.grid(True)\n",
    "plt.savefig('随机森林_sensitivity_analysis.png')\n",
    "plt.show()"
   ]
  },
  {
   "cell_type": "code",
   "execution_count": 24,
   "id": "294adc21",
   "metadata": {
    "ExecuteTime": {
     "end_time": "2024-02-04T16:53:12.493686Z",
     "start_time": "2024-02-04T16:53:12.480804Z"
    }
   },
   "outputs": [],
   "source": [
    "# 针对p1进行数据处理\n",
    "data_selected['winner'] = data_selected['p1_winner_sum'] - data_selected['p2_winner_sum']\n",
    "data_selected['unf_err'] = data_selected['p1_unf_err_sum'] - data_selected['p2_unf_err_sum']\n",
    "data_selected['break_pt'] = data_selected['p1_break_pt_sum'] - data_selected['p2_break_pt_sum']\n",
    "data_selected['break_pt_won'] = data_selected['p1_break_pt_won_sum'] - data_selected['p2_break_pt_won_sum']\n",
    "data_selected['ace'] = data_selected['p1_ace_sum'] - data_selected['p2_ace_sum']\n",
    "data_selected['double_fault'] = data_selected['p1_double_fault_sum'] - data_selected['p2_double_fault_sum']\n",
    "# data_selected['break_pt_ratio'] = data_selected['p1_break_pt_won_ratio']  - data_selected['p2_break_pt_won_ratio']\n",
    "columns_to_drop = ['p1_ace_sum', 'p2_ace_sum', 'p1_winner_sum', 'p2_winner_sum', \n",
    "                             'p1_double_fault_sum', 'p2_double_fault_sum', 'p1_unf_err_sum', 'p2_unf_err_sum', \n",
    "                             'p1_break_pt_sum', 'p2_break_pt_sum', 'p1_break_pt_won_sum', \n",
    "                             'p2_break_pt_won_sum']\n",
    "data_selected = data_selected.drop(columns=columns_to_drop)"
   ]
  },
  {
   "cell_type": "code",
   "execution_count": 19,
   "id": "1ec7042c",
   "metadata": {
    "ExecuteTime": {
     "end_time": "2024-02-05T05:31:22.696922Z",
     "start_time": "2024-02-05T05:31:21.938136Z"
    }
   },
   "outputs": [
    {
     "name": "stdout",
     "output_type": "stream",
     "text": [
      "Accuracy for each fold: [0.59701493 0.46268657 0.52238806 0.52238806 0.56060606]\n",
      "Mean accuracy: 0.53\n",
      "Cross-validation results: {'fit_time': array([0.06777477, 0.05693913, 0.07370472, 0.06072044, 0.07317519]), 'score_time': array([0.00594592, 0.00300598, 0.00399709, 0.0059917 , 0.00398898]), 'test_accuracy': array([0.59701493, 0.46268657, 0.52238806, 0.52238806, 0.56060606]), 'train_accuracy': array([0.72284644, 0.71161049, 0.70786517, 0.73033708, 0.70895522])}\n",
      "Mean test accuracy: 0.53\n",
      "Mean train accuracy: 0.72\n"
     ]
    }
   ],
   "source": [
    "from sklearn.model_selection import cross_val_score, cross_validate\n",
    "from sklearn.ensemble import RandomForestClassifier\n",
    "import numpy as np\n",
    "\n",
    "# 数据准备\n",
    "X = data_selected.drop('point_victor', axis=1)  # 特征矩阵\n",
    "y = data_selected['point_victor']  # 标签\n",
    "\n",
    "# 定义模型\n",
    "model = RandomForestClassifier(n_estimators=50, random_state=42, max_depth=15, min_samples_leaf=10, min_samples_split=20, max_features='sqrt',bootstrap=True)\n",
    "\n",
    "# 执行k折交叉验证，这里以k=5为例\n",
    "scores = cross_val_score(model, X, y, cv=5)\n",
    "\n",
    "# 打印每次交叉验证的准确率以及平均准确率\n",
    "print(\"Accuracy for each fold:\", scores)\n",
    "print(\"Mean accuracy: {:.2f}\".format(np.mean(scores)))\n",
    "\n",
    "# 使用cross_validate获取更多细节\n",
    "cv_results = cross_validate(model, X, y, cv=5, return_train_score=True,\n",
    "                            scoring=['accuracy'])\n",
    "\n",
    "# 打印细节结果\n",
    "print(\"Cross-validation results:\", cv_results)\n",
    "print(\"Mean test accuracy: {:.2f}\".format(np.mean(cv_results['test_accuracy'])))\n",
    "print(\"Mean train accuracy: {:.2f}\".format(np.mean(cv_results['train_accuracy'])))\n"
   ]
  },
  {
   "cell_type": "code",
   "execution_count": 25,
   "id": "44e1ef19",
   "metadata": {
    "ExecuteTime": {
     "end_time": "2024-02-04T16:53:14.778661Z",
     "start_time": "2024-02-04T16:53:14.748020Z"
    }
   },
   "outputs": [
    {
     "name": "stdout",
     "output_type": "stream",
     "text": [
      "<class 'pandas.core.frame.DataFrame'>\n",
      "RangeIndex: 334 entries, 0 to 333\n",
      "Data columns (total 10 columns):\n",
      " #   Column                 Non-Null Count  Dtype  \n",
      "---  ------                 --------------  -----  \n",
      " 0   point_victor           334 non-null    int8   \n",
      " 1   p1_break_pt_won_ratio  334 non-null    float64\n",
      " 2   p2_break_pt_won_ratio  334 non-null    float64\n",
      " 3   R1                     334 non-null    float64\n",
      " 4   winner                 334 non-null    int64  \n",
      " 5   unf_err                334 non-null    int64  \n",
      " 6   break_pt               334 non-null    int64  \n",
      " 7   break_pt_won           334 non-null    int64  \n",
      " 8   ace                    334 non-null    int64  \n",
      " 9   double_fault           334 non-null    int64  \n",
      "dtypes: float64(3), int64(6), int8(1)\n",
      "memory usage: 23.9 KB\n"
     ]
    }
   ],
   "source": [
    "data_selected.info()"
   ]
  },
  {
   "cell_type": "code",
   "execution_count": 26,
   "id": "3a95d8bf",
   "metadata": {
    "ExecuteTime": {
     "end_time": "2024-02-04T16:53:18.394170Z",
     "start_time": "2024-02-04T16:53:18.206354Z"
    }
   },
   "outputs": [
    {
     "name": "stdout",
     "output_type": "stream",
     "text": [
      "Accuracy: 0.6716417910447762\n",
      "              precision    recall  f1-score   support\n",
      "\n",
      "           0       0.73      0.65      0.69        37\n",
      "           1       0.62      0.70      0.66        30\n",
      "\n",
      "    accuracy                           0.67        67\n",
      "   macro avg       0.67      0.67      0.67        67\n",
      "weighted avg       0.68      0.67      0.67        67\n",
      "\n",
      "[0.72 0.86 0.24 0.72 0.36 0.94 0.26 0.74 0.88 0.78 0.28 0.22 0.7  0.38\n",
      " 0.46 0.62 0.86 0.96 0.44 0.5  0.46 0.64 0.12 0.98 0.22 0.34 0.9  0.28\n",
      " 0.66 0.08 0.22 0.22 0.64 0.78 0.2  0.86 0.36 0.2  0.92 0.74 0.52 0.32\n",
      " 0.88 0.36 0.68 0.38 0.3  0.92 0.62 0.18 0.84 0.32 0.34 0.64 0.52 0.34\n",
      " 0.22 0.48 0.62 0.38 0.86 0.48 0.38 0.6  0.8  0.84 0.64]\n",
      "25     0\n",
      "309    1\n",
      "73     0\n",
      "195    0\n",
      "57     0\n",
      "      ..\n",
      "280    1\n",
      "3      0\n",
      "77     1\n",
      "311    1\n",
      "60     0\n",
      "Name: point_victor, Length: 67, dtype: int8\n"
     ]
    }
   ],
   "source": [
    "X = data_selected.drop('point_victor', axis=1)  # 特征矩阵\n",
    "y = data_selected['point_victor']  # 标签\n",
    "X_train, X_test, y_train, y_test = train_test_split(X, y, test_size=0.2, random_state=42)\n",
    "# 训练模型\n",
    "model = RandomForestClassifier(n_estimators=50, random_state=42)\n",
    "model.fit(X_train, y_train)\n",
    "# 预测与评估\n",
    "y_pred = model.predict(X_test)\n",
    "print(\"Accuracy:\", accuracy_score(y_test, y_pred))\n",
    "print(classification_report(y_test, y_pred))\n",
    "# 使用.predict_proba()获取每个类别的概率\n",
    "probabilities = model.predict_proba(X_test)\n",
    "scores = probabilities[:, 1]\n",
    "print(scores)\n",
    "print(y_test)"
   ]
  },
  {
   "cell_type": "code",
   "execution_count": 46,
   "id": "7ba89811",
   "metadata": {
    "ExecuteTime": {
     "end_time": "2024-02-04T03:15:29.636790Z",
     "start_time": "2024-02-04T03:15:29.503100Z"
    }
   },
   "outputs": [
    {
     "data": {
      "image/png": "[encoded data removed]",
      "text/plain": [
       "<Figure size 1000x800 with 1 Axes>"
      ]
     },
     "metadata": {},
     "output_type": "display_data"
    }
   ],
   "source": [
    "import numpy as np\n",
    "import matplotlib.pyplot as plt\n",
    "# 获取特征重要性\n",
    "feature_importances = model.feature_importances_\n",
    "\n",
    "# 可视化特征重要性\n",
    "features = X.columns\n",
    "indices = np.argsort(feature_importances)[::-1]\n",
    "\n",
    "plt.figure(figsize=(10, 8))\n",
    "plt.title(\"Feature Importances\")\n",
    "plt.bar(range(X.shape[1]), feature_importances[indices], align=\"center\")\n",
    "plt.xticks(range(X.shape[1]), features[indices], rotation=90)\n",
    "plt.xlim([-1, X.shape[1]])\n",
    "plt.show()"
   ]
  },
  {
   "cell_type": "code",
   "execution_count": 47,
   "id": "6cedc973",
   "metadata": {
    "ExecuteTime": {
     "end_time": "2024-02-04T03:15:33.024871Z",
     "start_time": "2024-02-04T03:15:33.007874Z"
    }
   },
   "outputs": [
    {
     "data": {
      "text/plain": [
       "array([0.12593948, 0.05877554, 0.26038947, 0.27068499, 0.10793812,\n",
       "       0.04427506, 0.07077174, 0.06122559])"
      ]
     },
     "execution_count": 47,
     "metadata": {},
     "output_type": "execute_result"
    }
   ],
   "source": [
    "feature_importances"
   ]
  },
  {
   "cell_type": "code",
   "execution_count": 48,
   "id": "d61307ff",
   "metadata": {
    "ExecuteTime": {
     "end_time": "2024-02-04T03:15:35.572779Z",
     "start_time": "2024-02-04T03:15:35.317629Z"
    }
   },
   "outputs": [
    {
     "name": "stdout",
     "output_type": "stream",
     "text": [
      "Accuracy: 0.5970149253731343\n",
      "              precision    recall  f1-score   support\n",
      "\n",
      "           0       0.64      0.62      0.63        37\n",
      "           1       0.55      0.57      0.56        30\n",
      "\n",
      "    accuracy                           0.60        67\n",
      "   macro avg       0.59      0.59      0.59        67\n",
      "weighted avg       0.60      0.60      0.60        67\n",
      "\n",
      "[0.39357143 0.2575     0.12       0.235      0.58304762 0.89333333\n",
      " 0.13       0.46033333 0.71404762 0.55833333 0.09333333 0.11857143\n",
      " 0.62561905 0.34252442 0.20666667 0.25333333 0.97333333 0.89333333\n",
      " 0.45369048 0.65333333 0.25583333 0.74333333 0.57865079 0.73236147\n",
      " 0.25       0.74       0.53333333 0.27453968 0.46571429 0.27453968\n",
      " 0.39752381 0.07566667 0.975      0.4272381  0.18       0.73333333\n",
      " 0.51866667 0.20304762 1.         0.97333333 0.43166667 0.095\n",
      " 0.56525397 0.43533333 0.28       0.16       0.35333333 1.\n",
      " 0.66       0.57865079 0.785      0.2452381  0.60666667 0.37771429\n",
      " 0.25583333 0.26966667 0.05       0.38895238 0.94333333 0.36533333\n",
      " 0.94       0.57865079 0.13       0.84666667 0.63002381 0.815\n",
      " 0.94222222]\n",
      "25     0\n",
      "309    1\n",
      "73     0\n",
      "195    0\n",
      "57     0\n",
      "      ..\n",
      "280    1\n",
      "3      0\n",
      "77     1\n",
      "311    1\n",
      "60     0\n",
      "Name: point_victor, Length: 67, dtype: int8\n"
     ]
    },
    {
     "data": {
      "image/png": "[encoded data removed]",
      "text/plain": [
       "<Figure size 1000x800 with 1 Axes>"
      ]
     },
     "metadata": {},
     "output_type": "display_data"
    }
   ],
   "source": [
    "# 数据列的归一化 \n",
    "data_selected.describe()\n",
    "# 根据describe()函数的结果，这里选择对winner、unf_err、break_pt进行归一化\n",
    "from sklearn.preprocessing import MinMaxScaler\n",
    "# 选择要归一化的特征\n",
    "features_to_normalize = ['winner', 'unf_err', 'break_pt']\n",
    "scaler = MinMaxScaler()\n",
    "# 对特定特征进行归一化\n",
    "data_selected[features_to_normalize] = scaler.fit_transform(data_selected[features_to_normalize])\n",
    "data_selected.describe()\n",
    "\n",
    "# 对归一化后的数据使用随机森林来做\n",
    "X = data_selected.drop('point_victor', axis=1)  # 特征矩阵\n",
    "y = data_selected['point_victor']  # 标签\n",
    "X_train, X_test, y_train, y_test = train_test_split(X, y, test_size=0.2, random_state=42)\n",
    "# 训练模型\n",
    "model = RandomForestClassifier(n_estimators=50, random_state=42)\n",
    "model.fit(X_train, y_train)\n",
    "# 预测与评估\n",
    "y_pred = model.predict(X_test)\n",
    "print(\"Accuracy:\", accuracy_score(y_test, y_pred))\n",
    "print(classification_report(y_test, y_pred))\n",
    "# 使用.predict_proba()获取每个类别的概率\n",
    "probabilities = model.predict_proba(X_test)\n",
    "scores = probabilities[:, 1]\n",
    "print(scores)\n",
    "print(y_test)\n",
    "# 获取特征重要性\n",
    "feature_importances = model.feature_importances_\n",
    "\n",
    "# 可视化特征重要性\n",
    "features = X.columns\n",
    "indices = np.argsort(feature_importances)[::-1]\n",
    "\n",
    "plt.figure(figsize=(10, 8))\n",
    "plt.title(\"Feature Importances\")\n",
    "plt.bar(range(X.shape[1]), feature_importances[indices], align=\"center\")\n",
    "plt.xticks(range(X.shape[1]), features[indices], rotation=90)\n",
    "plt.xlim([-1, X.shape[1]])\n",
    "plt.show()"
   ]
  },
  {
   "cell_type": "code",
   "execution_count": 49,
   "id": "9198b6e0",
   "metadata": {
    "ExecuteTime": {
     "end_time": "2024-02-04T03:15:38.700260Z",
     "start_time": "2024-02-04T03:15:38.678573Z"
    }
   },
   "outputs": [
    {
     "data": {
      "text/html": [
       "<div>\n",
       "<style scoped>\n",
       "    .dataframe tbody tr th:only-of-type {\n",
       "        vertical-align: middle;\n",
       "    }\n",
       "\n",
       "    .dataframe tbody tr th {\n",
       "        vertical-align: top;\n",
       "    }\n",
       "\n",
       "    .dataframe thead th {\n",
       "        text-align: right;\n",
       "    }\n",
       "</style>\n",
       "<table border=\"1\" class=\"dataframe\">\n",
       "  <thead>\n",
       "    <tr style=\"text-align: right;\">\n",
       "      <th></th>\n",
       "      <th>winner</th>\n",
       "      <th>unf_err</th>\n",
       "      <th>break_pt</th>\n",
       "      <th>ace</th>\n",
       "      <th>double_fault</th>\n",
       "      <th>p1_break_pt_won_ratio</th>\n",
       "      <th>point_victor</th>\n",
       "      <th>p2_break_pt_won_ratio</th>\n",
       "    </tr>\n",
       "  </thead>\n",
       "  <tbody>\n",
       "    <tr>\n",
       "      <th>winner</th>\n",
       "      <td>1.000000</td>\n",
       "      <td>-0.073170</td>\n",
       "      <td>0.142643</td>\n",
       "      <td>0.170051</td>\n",
       "      <td>0.201334</td>\n",
       "      <td>0.093464</td>\n",
       "      <td>0.154137</td>\n",
       "      <td>0.011257</td>\n",
       "    </tr>\n",
       "    <tr>\n",
       "      <th>unf_err</th>\n",
       "      <td>-0.073170</td>\n",
       "      <td>1.000000</td>\n",
       "      <td>-0.315183</td>\n",
       "      <td>-0.004974</td>\n",
       "      <td>0.640630</td>\n",
       "      <td>-0.153826</td>\n",
       "      <td>-0.111217</td>\n",
       "      <td>0.100869</td>\n",
       "    </tr>\n",
       "    <tr>\n",
       "      <th>break_pt</th>\n",
       "      <td>0.142643</td>\n",
       "      <td>-0.315183</td>\n",
       "      <td>1.000000</td>\n",
       "      <td>-0.011079</td>\n",
       "      <td>-0.125655</td>\n",
       "      <td>0.025771</td>\n",
       "      <td>0.054746</td>\n",
       "      <td>0.032104</td>\n",
       "    </tr>\n",
       "    <tr>\n",
       "      <th>ace</th>\n",
       "      <td>0.170051</td>\n",
       "      <td>-0.004974</td>\n",
       "      <td>-0.011079</td>\n",
       "      <td>1.000000</td>\n",
       "      <td>0.037899</td>\n",
       "      <td>0.143117</td>\n",
       "      <td>-0.028333</td>\n",
       "      <td>0.092917</td>\n",
       "    </tr>\n",
       "    <tr>\n",
       "      <th>double_fault</th>\n",
       "      <td>0.201334</td>\n",
       "      <td>0.640630</td>\n",
       "      <td>-0.125655</td>\n",
       "      <td>0.037899</td>\n",
       "      <td>1.000000</td>\n",
       "      <td>0.056720</td>\n",
       "      <td>-0.088743</td>\n",
       "      <td>-0.055142</td>\n",
       "    </tr>\n",
       "    <tr>\n",
       "      <th>p1_break_pt_won_ratio</th>\n",
       "      <td>0.093464</td>\n",
       "      <td>-0.153826</td>\n",
       "      <td>0.025771</td>\n",
       "      <td>0.143117</td>\n",
       "      <td>0.056720</td>\n",
       "      <td>1.000000</td>\n",
       "      <td>0.086666</td>\n",
       "      <td>0.394612</td>\n",
       "    </tr>\n",
       "    <tr>\n",
       "      <th>point_victor</th>\n",
       "      <td>0.154137</td>\n",
       "      <td>-0.111217</td>\n",
       "      <td>0.054746</td>\n",
       "      <td>-0.028333</td>\n",
       "      <td>-0.088743</td>\n",
       "      <td>0.086666</td>\n",
       "      <td>1.000000</td>\n",
       "      <td>0.002304</td>\n",
       "    </tr>\n",
       "    <tr>\n",
       "      <th>p2_break_pt_won_ratio</th>\n",
       "      <td>0.011257</td>\n",
       "      <td>0.100869</td>\n",
       "      <td>0.032104</td>\n",
       "      <td>0.092917</td>\n",
       "      <td>-0.055142</td>\n",
       "      <td>0.394612</td>\n",
       "      <td>0.002304</td>\n",
       "      <td>1.000000</td>\n",
       "    </tr>\n",
       "  </tbody>\n",
       "</table>\n",
       "</div>"
      ],
      "text/plain": [
       "                         winner   unf_err  break_pt       ace  double_fault  \\\n",
       "winner                 1.000000 -0.073170  0.142643  0.170051      0.201334   \n",
       "unf_err               -0.073170  1.000000 -0.315183 -0.004974      0.640630   \n",
       "break_pt               0.142643 -0.315183  1.000000 -0.011079     -0.125655   \n",
       "ace                    0.170051 -0.004974 -0.011079  1.000000      0.037899   \n",
       "double_fault           0.201334  0.640630 -0.125655  0.037899      1.000000   \n",
       "p1_break_pt_won_ratio  0.093464 -0.153826  0.025771  0.143117      0.056720   \n",
       "point_victor           0.154137 -0.111217  0.054746 -0.028333     -0.088743   \n",
       "p2_break_pt_won_ratio  0.011257  0.100869  0.032104  0.092917     -0.055142   \n",
       "\n",
       "                       p1_break_pt_won_ratio  point_victor  \\\n",
       "winner                              0.093464      0.154137   \n",
       "unf_err                            -0.153826     -0.111217   \n",
       "break_pt                            0.025771      0.054746   \n",
       "ace                                 0.143117     -0.028333   \n",
       "double_fault                        0.056720     -0.088743   \n",
       "p1_break_pt_won_ratio               1.000000      0.086666   \n",
       "point_victor                        0.086666      1.000000   \n",
       "p2_break_pt_won_ratio               0.394612      0.002304   \n",
       "\n",
       "                       p2_break_pt_won_ratio  \n",
       "winner                              0.011257  \n",
       "unf_err                             0.100869  \n",
       "break_pt                            0.032104  \n",
       "ace                                 0.092917  \n",
       "double_fault                       -0.055142  \n",
       "p1_break_pt_won_ratio               0.394612  \n",
       "point_victor                        0.002304  \n",
       "p2_break_pt_won_ratio               1.000000  "
      ]
     },
     "execution_count": 49,
     "metadata": {},
     "output_type": "execute_result"
    }
   ],
   "source": [
    "# 计算相关系数矩阵\n",
    "# 从data_selected中选择相关特征\n",
    "features_for_correlation = ['winner', 'unf_err', 'break_pt', 'ace', 'double_fault', 'p1_break_pt_won_ratio', 'point_victor', 'p2_break_pt_won_ratio']\n",
    "data_for_correlation = data_selected[features_for_correlation]\n",
    "\n",
    "# 计算相关系数矩阵\n",
    "correlation_matrix = data_for_correlation.corr(method='spearman')\n",
    "\n",
    "correlation_matrix"
   ]
  },
  {
   "cell_type": "code",
   "execution_count": null,
   "id": "e373373c",
   "metadata": {},
   "outputs": [],
   "source": []
  }
 ],
 "metadata": {
  "kernelspec": {
   "display_name": "Python 3 (ipykernel)",
   "language": "python",
   "name": "python3"
  },
  "language_info": {
   "codemirror_mode": {
    "name": "ipython",
    "version": 3
   },
   "file_extension": ".py",
   "mimetype": "text/x-python",
   "name": "python",
   "nbconvert_exporter": "python",
   "pygments_lexer": "ipython3",
   "version": "3.9.13"
  }
 },
 "nbformat": 4,
 "nbformat_minor": 5
}
