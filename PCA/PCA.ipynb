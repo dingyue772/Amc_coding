{
 "cells": [
  {
   "cell_type": "code",
   "execution_count": 1,
   "id": "e7991842",
   "metadata": {
    "ExecuteTime": {
     "end_time": "2024-01-26T13:21:03.318688Z",
     "start_time": "2024-01-26T13:21:00.682937Z"
    }
   },
   "outputs": [],
   "source": [
    "import pandas as pd\n",
    "import matplotlib.pyplot as plt\n",
    "from sklearn.decomposition import PCA\n",
    "import numpy as np\n",
    "%matplotlib inline\n",
    "plt.rcParams['font.sans-serif'] = ['SimHei']\n",
    "plt.rcParams['axes.unicode_minus'] = False"
   ]
  },
  {
   "cell_type": "code",
   "execution_count": 2,
   "id": "83f237fb",
   "metadata": {
    "ExecuteTime": {
     "end_time": "2024-01-26T13:21:04.077196Z",
     "start_time": "2024-01-26T13:21:03.332946Z"
    }
   },
   "outputs": [
    {
     "data": {
      "text/html": [
       "<div>\n",
       "<style scoped>\n",
       "    .dataframe tbody tr th:only-of-type {\n",
       "        vertical-align: middle;\n",
       "    }\n",
       "\n",
       "    .dataframe tbody tr th {\n",
       "        vertical-align: top;\n",
       "    }\n",
       "\n",
       "    .dataframe thead th {\n",
       "        text-align: right;\n",
       "    }\n",
       "</style>\n",
       "<table border=\"1\" class=\"dataframe\">\n",
       "  <thead>\n",
       "    <tr style=\"text-align: right;\">\n",
       "      <th></th>\n",
       "      <th>食品</th>\n",
       "      <th>衣着</th>\n",
       "      <th>家庭设备</th>\n",
       "      <th>医疗</th>\n",
       "      <th>交通</th>\n",
       "      <th>娱乐</th>\n",
       "      <th>居住</th>\n",
       "      <th>杂项</th>\n",
       "    </tr>\n",
       "  </thead>\n",
       "  <tbody>\n",
       "    <tr>\n",
       "      <th>0</th>\n",
       "      <td>2959.19</td>\n",
       "      <td>730.79</td>\n",
       "      <td>749.41</td>\n",
       "      <td>513.34</td>\n",
       "      <td>467.87</td>\n",
       "      <td>1141.82</td>\n",
       "      <td>478.42</td>\n",
       "      <td>457.64</td>\n",
       "    </tr>\n",
       "    <tr>\n",
       "      <th>1</th>\n",
       "      <td>2459.77</td>\n",
       "      <td>495.47</td>\n",
       "      <td>697.33</td>\n",
       "      <td>302.87</td>\n",
       "      <td>284.19</td>\n",
       "      <td>735.97</td>\n",
       "      <td>570.84</td>\n",
       "      <td>305.08</td>\n",
       "    </tr>\n",
       "    <tr>\n",
       "      <th>2</th>\n",
       "      <td>1495.63</td>\n",
       "      <td>515.90</td>\n",
       "      <td>362.37</td>\n",
       "      <td>285.32</td>\n",
       "      <td>272.95</td>\n",
       "      <td>540.58</td>\n",
       "      <td>364.91</td>\n",
       "      <td>188.63</td>\n",
       "    </tr>\n",
       "    <tr>\n",
       "      <th>3</th>\n",
       "      <td>1406.33</td>\n",
       "      <td>477.77</td>\n",
       "      <td>290.15</td>\n",
       "      <td>208.57</td>\n",
       "      <td>201.50</td>\n",
       "      <td>414.72</td>\n",
       "      <td>281.84</td>\n",
       "      <td>212.10</td>\n",
       "    </tr>\n",
       "    <tr>\n",
       "      <th>4</th>\n",
       "      <td>1303.97</td>\n",
       "      <td>524.29</td>\n",
       "      <td>254.83</td>\n",
       "      <td>192.17</td>\n",
       "      <td>249.81</td>\n",
       "      <td>463.09</td>\n",
       "      <td>287.87</td>\n",
       "      <td>192.96</td>\n",
       "    </tr>\n",
       "  </tbody>\n",
       "</table>\n",
       "</div>"
      ],
      "text/plain": [
       "        食品      衣着    家庭设备      医疗      交通       娱乐      居住      杂项\n",
       "0  2959.19  730.79  749.41  513.34  467.87  1141.82  478.42  457.64\n",
       "1  2459.77  495.47  697.33  302.87  284.19   735.97  570.84  305.08\n",
       "2  1495.63  515.90  362.37  285.32  272.95   540.58  364.91  188.63\n",
       "3  1406.33  477.77  290.15  208.57  201.50   414.72  281.84  212.10\n",
       "4  1303.97  524.29  254.83  192.17  249.81   463.09  287.87  192.96"
      ]
     },
     "execution_count": 2,
     "metadata": {},
     "output_type": "execute_result"
    }
   ],
   "source": [
    "# 从 Excel 文件中读取数据\n",
    "df = pd.read_excel('消费数据.xlsx')\n",
    "columns_to_drop = ['省份']\n",
    "df.drop(columns=columns_to_drop, inplace=True)\n",
    "df.head()"
   ]
  },
  {
   "cell_type": "code",
   "execution_count": 3,
   "id": "7b9556e5",
   "metadata": {
    "ExecuteTime": {
     "end_time": "2024-01-26T13:21:04.169632Z",
     "start_time": "2024-01-26T13:21:04.136224Z"
    }
   },
   "outputs": [
    {
     "data": {
      "text/plain": [
       "array([[ 1.        ,  0.24733541,  0.6978291 ,  0.46776442,  0.82784056,\n",
       "         0.76863952,  0.67002431,  0.87720022],\n",
       "       [ 0.24733541,  1.        ,  0.25785302,  0.4232989 ,  0.08589674,\n",
       "         0.25518521, -0.20114823,  0.34927349],\n",
       "       [ 0.6978291 ,  0.25785302,  1.        ,  0.62080095,  0.58531622,\n",
       "         0.85642718,  0.56859444,  0.66742491],\n",
       "       [ 0.46776442,  0.4232989 ,  0.62080095,  1.        ,  0.53125636,\n",
       "         0.68361159,  0.31397453,  0.62822238],\n",
       "       [ 0.82784056,  0.08589674,  0.58531622,  0.53125636,  1.        ,\n",
       "         0.70812343,  0.80042554,  0.7762909 ],\n",
       "       [ 0.76863952,  0.25518521,  0.85642718,  0.68361159,  0.70812343,\n",
       "         1.        ,  0.64720094,  0.74488694],\n",
       "       [ 0.67002431, -0.20114823,  0.56859444,  0.31397453,  0.80042554,\n",
       "         0.64720094,  1.        ,  0.52503273],\n",
       "       [ 0.87720022,  0.34927349,  0.66742491,  0.62822238,  0.7762909 ,\n",
       "         0.74488694,  0.52503273,  1.        ]])"
      ]
     },
     "execution_count": 3,
     "metadata": {},
     "output_type": "execute_result"
    }
   ],
   "source": [
    "# 计算相关系数矩阵\n",
    "correlation_matrix = np.corrcoef(df, rowvar=False)\n",
    "correlation_matrix"
   ]
  },
  {
   "cell_type": "code",
   "execution_count": 4,
   "id": "28de15ca",
   "metadata": {
    "ExecuteTime": {
     "end_time": "2024-01-26T13:21:04.834197Z",
     "start_time": "2024-01-26T13:21:04.817973Z"
    }
   },
   "outputs": [
    {
     "name": "stdout",
     "output_type": "stream",
     "text": [
      "[0.63721252 0.16903311 0.07184047 0.05078642 0.0351585  0.00909967\n",
      " 0.0152846  0.01158471]\n",
      "[0.63721252 0.80624563 0.87808609 0.92887251 0.96403102 0.97313069\n",
      " 0.98841529 1.        ]\n"
     ]
    }
   ],
   "source": [
    "# 获取特征值和特征向量\n",
    "eigenvalues, eigenvectors = np.linalg.eig(correlation_matrix)\n",
    "# print(eigenvalues)\n",
    "# print(-eigenvectors.T)\n",
    "# 计算贡献率\n",
    "variance_explained_ratio = eigenvalues / np.sum(eigenvalues)\n",
    "print(variance_explained_ratio)\n",
    "# 计算累积贡献率\n",
    "cumulative_variance_explained_ratio = np.cumsum(variance_explained_ratio)\n",
    "print(cumulative_variance_explained_ratio)"
   ]
  },
  {
   "cell_type": "code",
   "execution_count": 5,
   "id": "3b316d57",
   "metadata": {
    "ExecuteTime": {
     "end_time": "2024-01-26T13:21:06.074999Z",
     "start_time": "2024-01-26T13:21:05.859983Z"
    }
   },
   "outputs": [
    {
     "name": "stdout",
     "output_type": "stream",
     "text": [
      "[418532.73314284  26456.48019833]\n",
      "[[ 0.901748    0.04597374  0.21020759  0.06987108  0.16872219  0.24173483\n",
      "   0.18500909  0.12056734]\n",
      " [ 0.3759619  -0.07214027 -0.63252803 -0.27186386 -0.03116046 -0.58389649\n",
      "  -0.19331114 -0.01309496]]\n",
      "[[1186.14569459 -297.34444542]\n",
      " [ 568.92860144 -151.14014681]\n",
      " [-472.44884156 -142.67982959]\n",
      " [-630.29065076  -15.48914839]\n",
      " [-710.3736669   -61.19258051]\n",
      " [-321.41238361   81.30929083]\n",
      " [-486.64795744   54.8038875 ]\n",
      " [-642.81332301   29.69955678]\n",
      " [1905.06125115  -33.30943458]\n",
      " [ 240.92855238  -23.46337071]\n",
      " [ 788.68140715 -166.56699854]\n",
      " [-216.10591498  122.62938312]\n",
      " [ 643.42740545  380.21578272]\n",
      " [-482.98830486   87.81366601]\n",
      " [-252.33025066 -219.25671089]\n",
      " [-609.3712732    15.07748004]\n",
      " [   6.97429304  -95.79368372]\n",
      " [-194.42366486  -35.49519491]\n",
      " [1305.95856835  -44.54433191]\n",
      " [  62.87467695   32.40899081]\n",
      " [ -26.55772635  268.43288013]\n",
      " [ 374.17256879  -57.83168756]\n",
      " [ -31.49996042   39.05898059]\n",
      " [-332.90406895  -37.30428751]\n",
      " [ 190.65958535  100.7937123 ]\n",
      " [ 525.33109538  498.77783102]\n",
      " [-482.01172029 -179.15259615]\n",
      " [-508.74332225  -12.46298572]\n",
      " [-380.98700267   34.1263314 ]\n",
      " [-654.79973926  -43.49174947]\n",
      " [-362.43392799 -128.62859088]]\n"
     ]
    },
    {
     "data": {
      "image/png": "[encoded data removed]",
      "text/plain": [
       "<Figure size 640x480 with 1 Axes>"
      ]
     },
     "metadata": {},
     "output_type": "display_data"
    }
   ],
   "source": [
    "# 根据各个特征的贡献率和累积贡献率，这里选择前两个特征作为主成分\n",
    "# 使用 PCA 对相关系数矩阵进行降维\n",
    "pca = PCA(n_components=2)\n",
    "pca.fit(df)\n",
    "# 输出特征值\n",
    "print(pca.explained_variance_)\n",
    "# 输出特征向量\n",
    "print(pca.components_)\n",
    "# 降维后的数据\n",
    "X_new = pca.transform(df)\n",
    "print(X_new)\n",
    "# 绘制散点图\n",
    "fig = plt.figure()\n",
    "plt.scatter(X_new[:, 0], X_new[:, 1], marker='o')\n",
    "plt.show()"
   ]
  },
  {
   "cell_type": "code",
   "execution_count": null,
   "id": "4316378f",
   "metadata": {},
   "outputs": [],
   "source": []
  }
 ],
 "metadata": {
  "kernelspec": {
   "display_name": "Python 3 (ipykernel)",
   "language": "python",
   "name": "python3"
  },
  "language_info": {
   "codemirror_mode": {
    "name": "ipython",
    "version": 3
   },
   "file_extension": ".py",
   "mimetype": "text/x-python",
   "name": "python",
   "nbconvert_exporter": "python",
   "pygments_lexer": "ipython3",
   "version": "3.9.13"
  }
 },
 "nbformat": 4,
 "nbformat_minor": 5
}
